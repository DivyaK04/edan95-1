{
 "cells": [
  {
   "cell_type": "markdown",
   "metadata": {},
   "source": [
    "# Introduction to Neural Networks: Classification"
   ]
  },
  {
   "cell_type": "markdown",
   "metadata": {},
   "source": [
    "Author: Pierre Nugues"
   ]
  },
  {
   "cell_type": "markdown",
   "metadata": {},
   "source": [
    "## A Dataset: *Salammbô* in French and English"
   ]
  },
  {
   "cell_type": "markdown",
   "metadata": {},
   "source": [
    "### Understanding the Dataset"
   ]
  },
  {
   "cell_type": "markdown",
   "metadata": {},
   "source": [
    "The counts of letters and _A_ broken down by chapter in *Salammbô* in French and its translation in English. The $\\mathbf{X}$ matrix contains the counts and $y$ the language; French: 1 and English: 0."
   ]
  },
  {
   "cell_type": "code",
   "execution_count": 1,
   "metadata": {},
   "outputs": [],
   "source": [
    "import numpy as np\n",
    "np.random.seed(0)\n",
    "\n",
    "X = np.array(\n",
    "    [[35680, 2217], [42514, 2761], [15162, 990], [35298, 2274],\n",
    "     [29800, 1865], [40255, 2606], [74532, 4805], [37464, 2396],\n",
    "     [31030, 1993], [24843, 1627], [36172, 2375], [39552, 2560],\n",
    "     [72545, 4597], [75352, 4871], [18031, 1119], [36961, 2503],\n",
    "     [43621, 2992], [15694, 1042], [36231, 2487], [29945, 2014],\n",
    "     [40588, 2805], [75255, 5062], [37709, 2643], [30899, 2126],\n",
    "     [25486, 1784], [37497, 2641], [40398, 2766], [74105, 5047],\n",
    "     [76725, 5312], [18317, 1215]\n",
    "     ], dtype='float64')\n",
    "\n",
    "y = np.array(\n",
    "    [0, 0, 0, 0, 0, 0, 0, 0, 0, 0, 0, 0, 0, 0, 0,\n",
    "     1, 1, 1, 1, 1, 1, 1, 1, 1, 1, 1, 1, 1, 1, 1])"
   ]
  },
  {
   "cell_type": "markdown",
   "metadata": {},
   "source": [
    "### Visualizing the Data"
   ]
  },
  {
   "cell_type": "code",
   "execution_count": 2,
   "metadata": {},
   "outputs": [
    {
     "data": {
      "image/png": "[encoded data removed]",
      "text/plain": [
       "<Figure size 432x288 with 1 Axes>"
      ]
     },
     "metadata": {
      "needs_background": "light"
     },
     "output_type": "display_data"
    }
   ],
   "source": [
    "import matplotlib.pyplot as plt\n",
    "\n",
    "X_english, X_french = np.split(X, 2)\n",
    "\n",
    "en = plt.scatter(X_english[:,0], X_english[:,1], c='r', marker='x')\n",
    "fr = plt.scatter(X_french[:,0], X_french[:,1], c='b', marker='x')\n",
    "plt.title(\"Salammbô\")\n",
    "plt.xlabel(\"Letter count\")\n",
    "plt.ylabel(\"A count\")\n",
    "plt.legend((en, fr), ('English', 'French'), loc='lower right', scatterpoints=1)\n",
    "plt.show()"
   ]
  },
  {
   "cell_type": "markdown",
   "metadata": {},
   "source": [
    "It is probably possible to determine the language using the counts"
   ]
  },
  {
   "cell_type": "markdown",
   "metadata": {},
   "source": [
    "## Building a Larger Dataset"
   ]
  },
  {
   "cell_type": "markdown",
   "metadata": {},
   "source": [
    "Let us extend the dataset to cover all the paragraphs, where we will count all the letters.<br/> Structure of the dataset:<br/>\n",
    "\n",
    "|Obs.   | *x*                              |class   |\n",
    "|-------|----------------------------------|--------|\n",
    "|para_1 | a_counts, b_counts, c_counts, ...| English|\n",
    "|para_2 |a_counts, b_counts, c_counts, ... |English |\n",
    "|...    |...                               |...    |\n",
    "|para_1000| a_counts, b_counts, c_counts, ...|French|\n",
    "|para_1001| a_counts, b_counts, c_counts, ...| French|\n",
    "|...      |...                               |...     |"
   ]
  },
  {
   "cell_type": "markdown",
   "metadata": {},
   "source": [
    "### A Function to Count Characters"
   ]
  },
  {
   "cell_type": "code",
   "execution_count": 3,
   "metadata": {},
   "outputs": [],
   "source": [
    "def count_chars(string):\n",
    "    counts = {}\n",
    "    for char in string:\n",
    "        if char.isalpha():\n",
    "            if char in counts:\n",
    "                counts[char] += 1\n",
    "            else:\n",
    "                counts[char] = 1\n",
    "    return counts"
   ]
  },
  {
   "cell_type": "markdown",
   "metadata": {},
   "source": [
    "### We Extract the Counts"
   ]
  },
  {
   "cell_type": "code",
   "execution_count": 4,
   "metadata": {},
   "outputs": [
    {
     "data": {
      "text/plain": [
       "[{'s': 1, 'a': 2, 'l': 1, 'm': 2, 'b': 1, 'ô': 1},\n",
       " {'b': 2,\n",
       "  'y': 1,\n",
       "  'g': 1,\n",
       "  'u': 2,\n",
       "  's': 1,\n",
       "  't': 2,\n",
       "  'a': 2,\n",
       "  'v': 1,\n",
       "  'e': 2,\n",
       "  'f': 1,\n",
       "  'l': 1,\n",
       "  'r': 1},\n",
       " {'c': 1, 'h': 1, 'a': 1, 'p': 1, 't': 1, 'e': 1, 'r': 1, 'i': 1},\n",
       " {'c': 1, 'h': 1, 'a': 1, 'p': 1, 't': 1, 'e': 1, 'r': 1, 'i': 2},\n",
       " {'c': 1, 'h': 1, 'a': 1, 'p': 1, 't': 1, 'e': 1, 'r': 1, 'i': 3}]"
      ]
     },
     "execution_count": 4,
     "metadata": {},
     "output_type": "execute_result"
    }
   ],
   "source": [
    "salammbo_en = open('../../EDAN20/programs/corpus/Salammbo/salammbo_en.txt').read().strip().lower()\n",
    "salammbo_fr = open('../../EDAN20/programs/corpus/Salammbo/salammbo.txt').read().strip().lower()\n",
    "\n",
    "para_en = filter(None, salammbo_en.split('\\n'))\n",
    "para_fr = filter(None, salammbo_fr.split('\\n'))\n",
    "\n",
    "counts_en = list(filter(None, map(count_chars, para_en)))\n",
    "counts_fr = list(filter(None, map(count_chars, para_fr)))\n",
    "counts = counts_en + counts_fr\n",
    "counts[:5]"
   ]
  },
  {
   "cell_type": "markdown",
   "metadata": {},
   "source": [
    "### Formatting the Dataset"
   ]
  },
  {
   "cell_type": "markdown",
   "metadata": {},
   "source": [
    "We associate the characters with indices"
   ]
  },
  {
   "cell_type": "code",
   "execution_count": 5,
   "metadata": {
    "scrolled": true
   },
   "outputs": [
    {
     "data": {
      "text/plain": [
       "{'a': 0,\n",
       " 'b': 1,\n",
       " 'c': 2,\n",
       " 'd': 3,\n",
       " 'e': 4,\n",
       " 'f': 5,\n",
       " 'g': 6,\n",
       " 'h': 7,\n",
       " 'i': 8,\n",
       " 'j': 9,\n",
       " 'k': 10,\n",
       " 'l': 11,\n",
       " 'm': 12,\n",
       " 'n': 13,\n",
       " 'o': 14,\n",
       " 'p': 15,\n",
       " 'q': 16,\n",
       " 'r': 17,\n",
       " 's': 18,\n",
       " 't': 19,\n",
       " 'u': 20,\n",
       " 'v': 21,\n",
       " 'w': 22,\n",
       " 'x': 23,\n",
       " 'y': 24,\n",
       " 'z': 25,\n",
       " 'à': 26,\n",
       " 'â': 27,\n",
       " 'æ': 28,\n",
       " 'ç': 29,\n",
       " 'è': 30,\n",
       " 'é': 31,\n",
       " 'ê': 32,\n",
       " 'ë': 33,\n",
       " 'î': 34,\n",
       " 'ï': 35,\n",
       " 'ô': 36,\n",
       " 'ù': 37,\n",
       " 'û': 38,\n",
       " 'œ': 39}"
      ]
     },
     "execution_count": 5,
     "metadata": {},
     "output_type": "execute_result"
    }
   ],
   "source": [
    "from sklearn.feature_extraction import DictVectorizer\n",
    "\n",
    "dict_vec = DictVectorizer(sparse=False)\n",
    "dict_vec.fit(counts)\n",
    "dict_vec.vocabulary_"
   ]
  },
  {
   "cell_type": "markdown",
   "metadata": {},
   "source": [
    "We convert the dictionaries into matrices"
   ]
  },
  {
   "cell_type": "code",
   "execution_count": 6,
   "metadata": {},
   "outputs": [
    {
     "name": "stdout",
     "output_type": "stream",
     "text": [
      "(1971, 40)\n",
      "(2015, 40)\n"
     ]
    }
   ],
   "source": [
    "X_en = dict_vec.transform(counts_en)\n",
    "X_fr = dict_vec.transform(counts_fr)\n",
    "print(X_en.shape)\n",
    "print(X_fr.shape)"
   ]
  },
  {
   "cell_type": "markdown",
   "metadata": {},
   "source": [
    "We stack the French and English datasets"
   ]
  },
  {
   "cell_type": "code",
   "execution_count": 7,
   "metadata": {},
   "outputs": [
    {
     "data": {
      "text/plain": [
       "array([[2., 1., 0., 0., 0., 0., 0., 0., 0., 0., 0., 1., 2., 0., 0., 0.,\n",
       "        0., 0., 1., 0., 0., 0., 0., 0., 0., 0., 0., 0., 0., 0., 0., 0.,\n",
       "        0., 0., 0., 0., 1., 0., 0., 0.],\n",
       "       [2., 2., 0., 0., 2., 1., 1., 0., 0., 0., 0., 1., 0., 0., 0., 0.,\n",
       "        0., 1., 1., 2., 2., 1., 0., 0., 1., 0., 0., 0., 0., 0., 0., 0.,\n",
       "        0., 0., 0., 0., 0., 0., 0., 0.],\n",
       "       [1., 0., 1., 0., 1., 0., 0., 1., 1., 0., 0., 0., 0., 0., 0., 1.,\n",
       "        0., 1., 0., 1., 0., 0., 0., 0., 0., 0., 0., 0., 0., 0., 0., 0.,\n",
       "        0., 0., 0., 0., 0., 0., 0., 0.],\n",
       "       [1., 0., 1., 0., 1., 0., 0., 1., 2., 0., 0., 0., 0., 0., 0., 1.,\n",
       "        0., 1., 0., 1., 0., 0., 0., 0., 0., 0., 0., 0., 0., 0., 0., 0.,\n",
       "        0., 0., 0., 0., 0., 0., 0., 0.],\n",
       "       [1., 0., 1., 0., 1., 0., 0., 1., 3., 0., 0., 0., 0., 0., 0., 1.,\n",
       "        0., 1., 0., 1., 0., 0., 0., 0., 0., 0., 0., 0., 0., 0., 0., 0.,\n",
       "        0., 0., 0., 0., 0., 0., 0., 0.]])"
      ]
     },
     "execution_count": 7,
     "metadata": {},
     "output_type": "execute_result"
    }
   ],
   "source": [
    "X = np.vstack((X_en, X_fr))\n",
    "y = [0] * len(counts_en) + [1] * len(counts_fr)\n",
    "X[:5,:]"
   ]
  },
  {
   "cell_type": "markdown",
   "metadata": {},
   "source": [
    "### Training and Validation Sets"
   ]
  },
  {
   "cell_type": "markdown",
   "metadata": {},
   "source": [
    "#### We shuffle the indices"
   ]
  },
  {
   "cell_type": "code",
   "execution_count": 8,
   "metadata": {},
   "outputs": [
    {
     "name": "stdout",
     "output_type": "stream",
     "text": [
      "[2952, 1523, 3945, 3605, 545, 1465, 3856, 1390, 587, 1276]\n"
     ]
    }
   ],
   "source": [
    "indices = list(range(X.shape[0]))\n",
    "np.random.shuffle(indices)\n",
    "print(indices[:10])\n",
    "X = X[indices, :]\n",
    "y = np.array(y)[indices]"
   ]
  },
  {
   "cell_type": "markdown",
   "metadata": {},
   "source": [
    "#### We split the dataset"
   ]
  },
  {
   "cell_type": "code",
   "execution_count": 9,
   "metadata": {},
   "outputs": [],
   "source": [
    "training_examples = int(X.shape[0] * 0.8)\n",
    "\n",
    "X_train = X[:training_examples, :]\n",
    "y_train = y[:training_examples]\n",
    "\n",
    "X_val = X[training_examples:, :]\n",
    "y_val = y[training_examples:]"
   ]
  },
  {
   "cell_type": "markdown",
   "metadata": {},
   "source": [
    "### Standardizing the Dataset"
   ]
  },
  {
   "cell_type": "markdown",
   "metadata": {},
   "source": [
    "We standardize the dataset. This is very significant for the final result"
   ]
  },
  {
   "cell_type": "code",
   "execution_count": 10,
   "metadata": {},
   "outputs": [
    {
     "data": {
      "text/plain": [
       "array([[ 0.52851591, -0.1155739 ,  0.06498621,  0.66303445,  0.81595504,\n",
       "         0.91256889,  0.74366955, -0.31114723,  0.80415086, -0.43635016,\n",
       "        -0.51761272,  1.09219625,  1.29698511,  0.38315057,  0.5504143 ,\n",
       "         1.19859483,  3.14696944,  0.55453944,  0.89623654,  0.15733867,\n",
       "         1.43524873,  1.0624261 , -0.58629949,  1.06623688, -0.33305714,\n",
       "         4.78360811,  0.50174901,  1.98572131, -0.12570222, -0.31253672,\n",
       "        -0.49576854,  0.58681298,  1.28404143, -0.04342357, -0.24173944,\n",
       "        -0.17812441, -0.35698046, -0.215202  ,  3.73232195, -0.17110036],\n",
       "       [ 0.52851591,  0.73273673,  0.37512997,  0.45988656,  0.43309237,\n",
       "         0.46755633,  0.977732  ,  1.23312476,  0.2532762 ,  0.68912258,\n",
       "         0.0698381 , -0.20596864, -0.23422901,  0.24725648,  0.85770746,\n",
       "         0.45420866, -0.06327169,  0.48551161,  0.19362941,  0.93046863,\n",
       "        -0.13699304,  0.06829214,  1.12750936,  0.2337208 ,  1.44547913,\n",
       "        -0.39002391, -0.46827879, -0.3562985 ,  7.16045549, -0.31253672,\n",
       "        -0.49576854, -0.5762332 , -0.37796591, -0.04342357, -0.24173944,\n",
       "        -0.17812441, -0.35698046, -0.215202  , -0.21809053, -0.17110036],\n",
       "       [ 0.52851591, -0.39834411,  0.68527373, -0.04798318,  0.87976549,\n",
       "         0.02254377,  0.04148221, -0.67883104,  1.01072886,  0.68912258,\n",
       "        -0.51761272,  1.41673748,  0.4463106 ,  0.85877988,  0.47359101,\n",
       "         1.57078792,  3.14696944,  0.6925951 ,  0.54493297,  0.37823294,\n",
       "         1.2605552 ,  1.72518208, -0.58629949,  1.06623688, -0.33305714,\n",
       "        -0.39002391,  1.4717768 ,  1.98572131, -0.12570222, -0.31253672,\n",
       "        -0.49576854,  0.87757452,  1.28404143, -0.04342357,  6.7011914 ,\n",
       "        -0.17812441, -0.35698046, -0.215202  ,  3.73232195, -0.17110036]])"
      ]
     },
     "execution_count": 10,
     "metadata": {},
     "output_type": "execute_result"
    }
   ],
   "source": [
    "from sklearn.preprocessing import StandardScaler\n",
    "\n",
    "std = StandardScaler()\n",
    "std.fit(X_train)\n",
    "\n",
    "X_train = std.transform(X_train)\n",
    "X_val = std.transform(X_val)\n",
    "X_train[:3, :]"
   ]
  },
  {
   "cell_type": "markdown",
   "metadata": {},
   "source": [
    "## A Simple Feed-Forward Network"
   ]
  },
  {
   "cell_type": "markdown",
   "metadata": {},
   "source": [
    "### The Model"
   ]
  },
  {
   "cell_type": "markdown",
   "metadata": {},
   "source": [
    "We create a simple architecture. This is simply logistic regression"
   ]
  },
  {
   "cell_type": "code",
   "execution_count": 11,
   "metadata": {},
   "outputs": [
    {
     "name": "stdout",
     "output_type": "stream",
     "text": [
      "Model: \"sequential\"\n",
      "_________________________________________________________________\n",
      "Layer (type)                 Output Shape              Param #   \n",
      "=================================================================\n",
      "dense (Dense)                (None, 1)                 41        \n",
      "=================================================================\n",
      "Total params: 41\n",
      "Trainable params: 41\n",
      "Non-trainable params: 0\n",
      "_________________________________________________________________\n"
     ]
    }
   ],
   "source": [
    "from tensorflow.keras import models\n",
    "from tensorflow.keras import layers\n",
    "\n",
    "model = models.Sequential([\n",
    "    layers.Dense(1, input_dim=X.shape[1], activation='sigmoid')])\n",
    "\n",
    "# Fitting the network\n",
    "model.compile(loss='binary_crossentropy',\n",
    "              optimizer='rmsprop',\n",
    "              metrics=['accuracy'])\n",
    "model.summary()"
   ]
  },
  {
   "cell_type": "markdown",
   "metadata": {},
   "source": [
    "We fit the model"
   ]
  },
  {
   "cell_type": "code",
   "execution_count": 12,
   "metadata": {},
   "outputs": [],
   "source": [
    "history = model.fit(X_train, y_train, \n",
    "                    epochs=100, \n",
    "                    batch_size=32, \n",
    "                    validation_data=(X_val, y_val), \n",
    "                    verbose=0)"
   ]
  },
  {
   "cell_type": "markdown",
   "metadata": {},
   "source": [
    "### The Model Weights"
   ]
  },
  {
   "cell_type": "code",
   "execution_count": 13,
   "metadata": {},
   "outputs": [
    {
     "data": {
      "text/plain": [
       "[array([[ 0.03057909],\n",
       "        [-0.3952341 ],\n",
       "        [ 0.46589148],\n",
       "        [-0.5072759 ],\n",
       "        [-0.41252497],\n",
       "        [-1.0378247 ],\n",
       "        [-0.705824  ],\n",
       "        [-2.9825642 ],\n",
       "        [ 0.31421047],\n",
       "        [ 1.2452732 ],\n",
       "        [-2.2900352 ],\n",
       "        [ 1.5486445 ],\n",
       "        [-0.09456186],\n",
       "        [-0.14914322],\n",
       "        [-1.077353  ],\n",
       "        [ 0.32679173],\n",
       "        [ 1.6044611 ],\n",
       "        [ 0.16465876],\n",
       "        [ 0.74501145],\n",
       "        [-0.6838707 ],\n",
       "        [ 0.9424702 ],\n",
       "        [ 0.4714931 ],\n",
       "        [-2.9659483 ],\n",
       "        [ 0.20878306],\n",
       "        [-2.460679  ],\n",
       "        [ 0.4723719 ],\n",
       "        [ 1.762782  ],\n",
       "        [ 1.4937623 ],\n",
       "        [-0.19498655],\n",
       "        [ 0.7740779 ],\n",
       "        [ 2.0856836 ],\n",
       "        [ 2.9277537 ],\n",
       "        [ 1.1336205 ],\n",
       "        [ 0.01470665],\n",
       "        [ 0.8955391 ],\n",
       "        [ 0.03811883],\n",
       "        [ 0.035096  ],\n",
       "        [ 0.6457152 ],\n",
       "        [ 0.62291366],\n",
       "        [ 0.52730346]], dtype=float32),\n",
       " array([0.41240975], dtype=float32)]"
      ]
     },
     "execution_count": 13,
     "metadata": {},
     "output_type": "execute_result"
    }
   ],
   "source": [
    "model.get_weights()"
   ]
  },
  {
   "cell_type": "markdown",
   "metadata": {},
   "source": [
    "### Visualizing The Training Process"
   ]
  },
  {
   "cell_type": "code",
   "execution_count": 14,
   "metadata": {},
   "outputs": [
    {
     "data": {
      "image/png": "[encoded data removed]",
      "text/plain": [
       "<Figure size 432x288 with 1 Axes>"
      ]
     },
     "metadata": {
      "needs_background": "light"
     },
     "output_type": "display_data"
    },
    {
     "data": {
      "image/png": "[encoded data removed]",
      "text/plain": [
       "<Figure size 432x288 with 1 Axes>"
      ]
     },
     "metadata": {
      "needs_background": "light"
     },
     "output_type": "display_data"
    }
   ],
   "source": [
    "import matplotlib.pyplot as plt\n",
    "\n",
    "acc = history.history['accuracy']\n",
    "val_acc = history.history['val_accuracy']\n",
    "loss = history.history['loss']\n",
    "val_loss = history.history['val_loss']\n",
    "epochs = range(1, len(acc) + 1)\n",
    "plt.plot(epochs, acc, 'bo', label='Training acc')\n",
    "plt.plot(epochs, val_acc, 'b', label='Validation acc')\n",
    "plt.title('Training and validation accuracy')\n",
    "plt.legend()\n",
    "plt.figure()\n",
    "plt.plot(epochs, loss, 'bo', label='Training loss')\n",
    "plt.plot(epochs, val_loss, 'b', label='Validation loss')\n",
    "plt.title('Training and validation loss')\n",
    "plt.legend()\n",
    "plt.show()\n"
   ]
  },
  {
   "cell_type": "markdown",
   "metadata": {},
   "source": [
    "### Predicting and Evaluating"
   ]
  },
  {
   "cell_type": "code",
   "execution_count": 15,
   "metadata": {},
   "outputs": [
    {
     "name": "stdout",
     "output_type": "stream",
     "text": [
      "[[1.6154826e-01]\n",
      " [9.7751856e-01]\n",
      " [6.9794778e-15]\n",
      " [1.3709273e-29]\n",
      " [2.2408644e-06]\n",
      " [1.0000000e+00]\n",
      " [6.0463786e-01]\n",
      " [7.6919941e-06]\n",
      " [8.6039291e-09]\n",
      " [9.9998713e-01]]\n",
      "[0 1 0 0 0 1 1 0 0 1]\n",
      "25/25 [==============================] - 0s 523us/step - loss: 0.0603 - accuracy: 0.9837\n",
      "Scores: [0.06027311086654663, 0.9837092757225037]\n"
     ]
    },
    {
     "data": {
      "text/plain": [
       "'\\naccuracy: 98.37%'"
      ]
     },
     "execution_count": 15,
     "metadata": {},
     "output_type": "execute_result"
    }
   ],
   "source": [
    "y_predicted = model.predict(X_val)\n",
    "print(y_predicted[:10])\n",
    "print(y_val[:10])\n",
    "\n",
    "# evaluate the model\n",
    "scores = model.evaluate(X_val, y_val)\n",
    "print('Scores:', scores)\n",
    "\"\\n%s: %.2f%%\" % (model.metrics_names[1], scores[1] * 100)"
   ]
  },
  {
   "cell_type": "markdown",
   "metadata": {},
   "source": [
    "### Confusion Matrix"
   ]
  },
  {
   "cell_type": "code",
   "execution_count": 16,
   "metadata": {},
   "outputs": [
    {
     "data": {
      "text/plain": [
       "array([[396,  11],\n",
       "       [  2, 389]])"
      ]
     },
     "execution_count": 16,
     "metadata": {},
     "output_type": "execute_result"
    }
   ],
   "source": [
    "from sklearn.metrics import confusion_matrix\n",
    "y_pred = []\n",
    "for i in y_predicted:\n",
    "    if i < 0.5:\n",
    "        y_pred.append([0])\n",
    "    else:\n",
    "        y_pred.append([1])\n",
    "confusion_matrix(y_val, y_pred)"
   ]
  },
  {
   "cell_type": "markdown",
   "metadata": {},
   "source": [
    "## A More Complex Model"
   ]
  },
  {
   "cell_type": "markdown",
   "metadata": {},
   "source": [
    "We build a more complex model with two layers"
   ]
  },
  {
   "cell_type": "code",
   "execution_count": 17,
   "metadata": {},
   "outputs": [
    {
     "name": "stdout",
     "output_type": "stream",
     "text": [
      "Model: \"sequential_1\"\n",
      "_________________________________________________________________\n",
      "Layer (type)                 Output Shape              Param #   \n",
      "=================================================================\n",
      "dense_1 (Dense)              (None, 20)                820       \n",
      "_________________________________________________________________\n",
      "dropout (Dropout)            (None, 20)                0         \n",
      "_________________________________________________________________\n",
      "dense_2 (Dense)              (None, 1)                 21        \n",
      "=================================================================\n",
      "Total params: 841\n",
      "Trainable params: 841\n",
      "Non-trainable params: 0\n",
      "_________________________________________________________________\n"
     ]
    }
   ],
   "source": [
    "model = models.Sequential([\n",
    "    layers.Dense(20, input_dim=X.shape[1], activation='relu'),\n",
    "    layers.Dropout(0.5),\n",
    "    layers.Dense(1, activation='sigmoid')\n",
    "])\n",
    "\n",
    "# Fitting the network\n",
    "model.compile(loss='binary_crossentropy',\n",
    "              optimizer='rmsprop',\n",
    "              metrics=['accuracy'])\n",
    "model.summary()"
   ]
  },
  {
   "cell_type": "markdown",
   "metadata": {},
   "source": [
    "And we fit it"
   ]
  },
  {
   "cell_type": "code",
   "execution_count": 18,
   "metadata": {},
   "outputs": [],
   "source": [
    "history = model.fit(X_train, y_train, epochs=20, batch_size=32, \n",
    "                    validation_data=(X_val, y_val), verbose=0)"
   ]
  },
  {
   "cell_type": "markdown",
   "metadata": {},
   "source": [
    "## The Model Weights"
   ]
  },
  {
   "cell_type": "code",
   "execution_count": 19,
   "metadata": {},
   "outputs": [
    {
     "data": {
      "text/plain": [
       "[array([[-5.21130115e-02, -3.87154035e-02,  2.32730225e-01,\n",
       "         -5.67924231e-02,  1.49308871e-02, -9.09454376e-02,\n",
       "          1.75293908e-01,  5.77964522e-02, -7.60738850e-02,\n",
       "          9.00889263e-02,  1.68086946e-01,  6.03392646e-02,\n",
       "         -1.02797681e-02,  1.74147695e-01,  1.64644718e-01,\n",
       "          1.59345865e-02, -2.54129440e-01, -1.11454144e-01,\n",
       "         -1.00852557e-01, -1.72420397e-01],\n",
       "        [ 1.27866715e-01,  2.90915389e-02, -1.85598880e-01,\n",
       "          2.76303619e-01,  2.15763614e-01,  3.87823172e-02,\n",
       "         -9.01915357e-02, -3.36254612e-02,  2.75078118e-01,\n",
       "          1.32128090e-01, -2.44829386e-01,  2.79828668e-01,\n",
       "         -3.33170205e-01,  6.16949424e-02,  1.24458469e-01,\n",
       "          2.28171080e-01,  2.63082325e-01, -2.52019763e-01,\n",
       "         -2.75025368e-01,  3.36053893e-02],\n",
       "        [-4.23539542e-02, -2.00305372e-01, -1.34097144e-01,\n",
       "         -3.05747151e-01, -1.73229814e-01, -1.98261797e-01,\n",
       "         -1.20223269e-01, -1.02374487e-01, -1.76459223e-01,\n",
       "          7.71618541e-03, -1.39030740e-01,  2.47983471e-01,\n",
       "          2.46463627e-01,  8.36697519e-02, -1.58513770e-01,\n",
       "          1.63482316e-02,  1.65381938e-01, -5.16567603e-02,\n",
       "          1.23290770e-01,  5.58361486e-02],\n",
       "        [-1.77778918e-02, -1.19678266e-02,  2.69152701e-01,\n",
       "         -1.90001905e-01,  3.01892489e-01,  4.33260411e-01,\n",
       "         -3.06987464e-01,  1.41488403e-01,  3.02542359e-01,\n",
       "          9.29087847e-02, -2.73905128e-01, -2.10692167e-01,\n",
       "          1.00957505e-01,  6.75611570e-02,  3.22562642e-03,\n",
       "          2.50325887e-03,  2.18631588e-02, -1.09658048e-01,\n",
       "          1.31956041e-01, -4.41199750e-01],\n",
       "        [ 1.60178646e-01,  1.08203098e-01,  1.79907307e-01,\n",
       "          2.07751632e-01, -3.24018836e-01,  3.46405536e-01,\n",
       "         -9.22999624e-03, -2.08806798e-01, -2.20549822e-01,\n",
       "         -1.96889415e-01, -7.59765506e-02,  1.91793665e-02,\n",
       "         -1.95153877e-01, -3.37807775e-01, -4.13521156e-02,\n",
       "          2.40618899e-01,  1.26377910e-01,  1.48829654e-01,\n",
       "          1.59242108e-01, -1.01464115e-01],\n",
       "        [-3.54097545e-01, -9.20098871e-02,  2.24873543e-01,\n",
       "          3.45118701e-01,  3.47900957e-01, -1.31817823e-02,\n",
       "         -2.38388091e-01,  8.28829929e-02,  7.21273869e-02,\n",
       "          1.20334655e-01, -2.00589478e-01,  3.16689640e-01,\n",
       "         -3.63776952e-01, -9.20927003e-02, -2.53936559e-01,\n",
       "          1.09147280e-01,  1.41824454e-01, -2.14388192e-01,\n",
       "         -4.91444729e-02,  1.25045935e-02],\n",
       "        [-3.79450321e-01, -8.81789699e-02,  2.47702152e-01,\n",
       "          2.59678960e-01,  1.44408718e-01,  1.86066225e-01,\n",
       "         -1.05792940e-01, -2.58259177e-01,  1.38520062e-01,\n",
       "          4.79516201e-02, -3.98041606e-02, -3.00704204e-02,\n",
       "          1.22642323e-01,  3.97542238e-01, -7.42331371e-02,\n",
       "          2.19665654e-02,  2.66528487e-01, -3.03350706e-02,\n",
       "         -3.20818692e-01, -1.14336520e-01],\n",
       "        [-1.48038551e-01, -2.60630935e-01,  4.81343448e-01,\n",
       "          2.17196479e-01,  3.63091528e-01,  1.51294053e-01,\n",
       "         -3.18526030e-01, -2.52119690e-01,  3.58062953e-01,\n",
       "          4.65737909e-01, -6.13461971e-01,  4.72065032e-01,\n",
       "         -1.09931409e-01,  5.87694645e-01, -4.90869492e-01,\n",
       "          5.26552975e-01,  5.90631962e-01, -3.89499992e-01,\n",
       "         -5.81454873e-01, -1.41039282e-01],\n",
       "        [ 1.55908922e-02, -2.42111638e-01,  1.25421345e-01,\n",
       "          2.33165622e-01,  1.53087333e-01,  2.02332094e-01,\n",
       "          1.23282783e-02, -8.29483420e-02, -1.60341468e-02,\n",
       "         -2.52495669e-02,  4.99885157e-02, -1.18580302e-02,\n",
       "          5.44440225e-02,  1.13441922e-01,  1.00393720e-01,\n",
       "         -2.07900569e-01, -7.20433667e-02,  8.49006027e-02,\n",
       "          3.77965868e-02,  4.10170667e-02],\n",
       "        [ 2.33722106e-01,  6.43281266e-02, -2.70482060e-02,\n",
       "         -6.12444282e-02, -2.29675204e-01, -2.04446390e-01,\n",
       "          2.87344009e-01,  5.77037483e-02, -2.31024250e-01,\n",
       "         -1.60421982e-01,  3.45530272e-01, -9.48758572e-02,\n",
       "          2.44449496e-01,  9.60573554e-04,  2.72806615e-01,\n",
       "         -2.94922560e-01, -6.08838126e-02, -2.25734548e-03,\n",
       "          7.66306147e-02, -2.36397564e-01],\n",
       "        [-1.68524817e-01, -5.35912395e-01,  2.71059811e-01,\n",
       "          3.28276455e-01,  3.20942551e-01,  4.63662535e-01,\n",
       "         -2.74616480e-01, -2.05424577e-01,  4.35137242e-01,\n",
       "          3.99974316e-01, -7.46006668e-02, -1.65681578e-02,\n",
       "         -1.16739385e-01,  4.69118863e-01, -3.62625003e-01,\n",
       "          3.52526039e-01,  2.62634724e-01, -1.66588843e-01,\n",
       "         -1.70502841e-01, -1.75528347e-01],\n",
       "        [ 2.64046714e-02,  3.68638039e-01, -3.94928396e-01,\n",
       "         -1.12935640e-02, -2.72121310e-01, -2.94935733e-01,\n",
       "         -1.71061099e-01,  3.69661570e-01, -1.24019198e-01,\n",
       "         -5.21500222e-02,  2.13450804e-01, -1.12336971e-01,\n",
       "          3.44973505e-01, -1.07250594e-01,  8.82994384e-02,\n",
       "         -3.58435465e-03, -3.42524052e-01,  3.27411503e-01,\n",
       "          2.61581212e-01, -1.61829770e-01],\n",
       "        [ 1.06912941e-01,  1.60506129e-01,  1.05546407e-01,\n",
       "          7.61882290e-02,  5.93359843e-02, -1.48496926e-01,\n",
       "         -8.31065550e-02,  1.41950339e-01,  1.47343883e-02,\n",
       "          2.26781264e-01,  1.49666250e-01,  2.30034098e-01,\n",
       "         -2.95780480e-01,  3.31215039e-02, -8.38817507e-02,\n",
       "          2.21317232e-01,  2.53627807e-01,  1.82092816e-01,\n",
       "         -2.01004237e-01,  4.29687724e-02],\n",
       "        [-2.08223779e-02,  4.01369557e-02,  1.50929485e-02,\n",
       "         -2.33429864e-01,  1.53912053e-01, -2.39017397e-01,\n",
       "          2.15809584e-01, -1.71874352e-02, -1.65471703e-01,\n",
       "         -4.58881669e-02,  2.64091473e-02, -1.26460806e-01,\n",
       "          1.02145046e-01, -2.90206432e-01,  2.63144881e-01,\n",
       "         -9.68344137e-02, -1.24636792e-01,  1.34504125e-01,\n",
       "          2.54351497e-01, -1.11137979e-01],\n",
       "        [-5.19706830e-02, -2.09836513e-01, -9.82987136e-02,\n",
       "         -2.76946034e-02,  3.67571451e-02,  1.38498783e-01,\n",
       "         -1.58046201e-01, -2.49037161e-01, -9.55933779e-02,\n",
       "          3.49095494e-01, -2.53407210e-01, -6.34014681e-02,\n",
       "          1.38351142e-01,  2.67973930e-01, -7.01963678e-02,\n",
       "          3.69051605e-01, -1.43149942e-01, -7.47792795e-02,\n",
       "         -1.08985901e-01,  1.08538769e-01],\n",
       "        [-2.04187438e-01, -1.80815253e-02,  1.24127500e-01,\n",
       "         -4.16491404e-02, -3.70815322e-02,  1.32271305e-01,\n",
       "         -1.97619647e-01,  2.05561325e-01, -2.25195631e-01,\n",
       "          4.75719459e-02,  2.74010837e-01, -2.05469057e-01,\n",
       "         -1.78068131e-01,  1.10820174e-01,  9.86500159e-02,\n",
       "         -1.08635403e-01, -1.07718751e-01,  2.41459876e-01,\n",
       "          1.54646426e-01,  1.16228417e-01],\n",
       "        [ 9.85314697e-02,  4.68072087e-01, -2.47633487e-01,\n",
       "         -1.12860622e-02, -1.22027524e-01, -2.34837338e-01,\n",
       "         -3.00758276e-02,  1.64541319e-01, -2.86947489e-01,\n",
       "         -4.14841682e-01, -4.15074751e-02, -1.71901315e-01,\n",
       "          5.70043087e-01,  2.39797365e-02,  1.25328228e-02,\n",
       "         -3.47554594e-01, -4.53713477e-01, -3.30138132e-02,\n",
       "         -2.92279683e-02,  3.84117305e-01],\n",
       "        [ 5.80964386e-02,  1.27806962e-01, -1.85261771e-01,\n",
       "         -3.52860987e-01,  8.76103863e-02,  7.54849613e-02,\n",
       "         -2.77472697e-02, -2.30079032e-02,  1.82206035e-01,\n",
       "         -3.14876348e-01,  3.53162169e-01,  2.15715632e-01,\n",
       "         -2.50507742e-01, -1.61996782e-01, -2.42619589e-01,\n",
       "         -3.41294259e-01,  1.71726897e-01,  2.24864304e-01,\n",
       "         -6.38796836e-02,  1.82300422e-03],\n",
       "        [ 2.56770313e-01, -3.85115035e-02, -2.09653273e-01,\n",
       "          7.44636208e-02, -4.00032550e-01, -2.65246749e-01,\n",
       "          3.30606908e-01,  1.89393073e-01, -3.36504988e-02,\n",
       "          1.07561328e-01, -5.12289554e-02,  2.11338848e-02,\n",
       "         -2.97543257e-01,  1.84406742e-01,  5.18633798e-02,\n",
       "         -3.33435565e-01, -3.42893228e-02, -1.64710749e-02,\n",
       "         -2.16953784e-01,  2.91221738e-02],\n",
       "        [-3.37748468e-01, -1.04003297e-02,  3.23978156e-01,\n",
       "          2.92025298e-01,  9.72682387e-02,  9.54309404e-02,\n",
       "          1.52226193e-02, -2.05395117e-01,  4.19735536e-02,\n",
       "          1.69264540e-01,  4.54086848e-02, -2.18422804e-02,\n",
       "         -3.43240738e-01, -2.27134824e-01,  4.33081761e-02,\n",
       "          7.13132545e-02,  1.15758099e-01, -3.81629080e-01,\n",
       "          7.94879943e-02,  1.04538612e-01],\n",
       "        [ 3.53687495e-01,  3.91542166e-01, -3.66519928e-01,\n",
       "         -2.14913800e-01, -3.90571475e-01, -1.79118007e-01,\n",
       "          3.63207996e-01,  3.83362286e-02, -5.37474453e-02,\n",
       "         -3.89228314e-02,  1.80864677e-01, -4.23020631e-01,\n",
       "          4.87250805e-01, -3.03994715e-01,  2.13699955e-02,\n",
       "          1.16531298e-01, -1.64497480e-01,  1.69454455e-01,\n",
       "          3.37620437e-01, -1.19031943e-01],\n",
       "        [ 2.06184134e-01, -1.78768367e-01, -1.60454631e-01,\n",
       "         -4.29682992e-02, -1.69544183e-02, -1.20063171e-01,\n",
       "         -2.58812476e-02, -2.66508423e-02,  2.48273581e-01,\n",
       "         -1.68855086e-01, -8.44024196e-02, -3.07228893e-01,\n",
       "          2.31196657e-01, -8.55967477e-02,  1.80532396e-01,\n",
       "         -1.25217989e-01, -2.74128646e-01,  1.21104725e-01,\n",
       "          2.13762745e-01,  1.20808549e-01],\n",
       "        [-4.87670600e-01, -3.87296408e-01,  3.72082353e-01,\n",
       "          4.84911799e-01,  5.72182775e-01,  1.45436332e-01,\n",
       "         -2.11985603e-01, -5.96934438e-01,  1.00692697e-01,\n",
       "          1.48017764e-01, -3.06227922e-01,  5.88322043e-01,\n",
       "         -4.00284886e-01,  5.76653779e-01, -4.64906186e-01,\n",
       "          6.75242960e-01,  1.03854693e-01, -7.16433898e-02,\n",
       "         -3.26926827e-01, -1.89069584e-01],\n",
       "        [-1.60394222e-01, -2.93387044e-02,  6.83453456e-02,\n",
       "         -4.11221951e-01,  5.96040487e-02, -4.12043072e-02,\n",
       "         -1.05690442e-01, -6.57241493e-02,  2.24841647e-02,\n",
       "         -2.23290771e-01, -8.27128142e-02, -7.27458522e-02,\n",
       "          8.67029801e-02, -1.52866021e-01,  2.49962956e-01,\n",
       "         -1.17886730e-01, -1.28257424e-01, -4.80347127e-02,\n",
       "          1.01242207e-01,  7.48150274e-02],\n",
       "        [-2.95164496e-01, -6.63466513e-01,  1.82857960e-01,\n",
       "          3.20056677e-01,  4.13714737e-01,  3.26805502e-01,\n",
       "         -2.23776624e-01, -1.27741694e-01,  3.21147859e-01,\n",
       "          4.42245841e-01, -2.91051686e-01,  1.44586697e-01,\n",
       "         -4.99326646e-01,  1.25587970e-01, -2.75155455e-01,\n",
       "          2.24345252e-01,  4.47932065e-01, -2.03896031e-01,\n",
       "         -3.60100359e-01, -2.59476453e-01],\n",
       "        [ 1.71047300e-01,  5.88209555e-02, -3.31014022e-02,\n",
       "         -9.06228945e-02,  2.60220990e-02, -4.06890139e-02,\n",
       "         -7.40532726e-02, -3.99141060e-03, -5.09082526e-02,\n",
       "         -1.52963728e-01,  3.55798677e-02, -2.75679469e-01,\n",
       "          7.10638687e-02, -1.32335454e-01,  1.57443196e-01,\n",
       "         -1.58689454e-01,  6.02525175e-02, -4.08527404e-01,\n",
       "          1.39276505e-01,  1.20168872e-01],\n",
       "        [ 4.15642440e-01,  3.29970092e-01, -1.68005720e-01,\n",
       "         -2.88176745e-01, -4.04557973e-01, -3.75410467e-01,\n",
       "          2.97301888e-01,  3.20635945e-01, -1.49022207e-01,\n",
       "         -1.26904100e-01,  1.63139209e-01, -4.76558954e-01,\n",
       "         -1.22923717e-01, -3.41900557e-01,  4.89316791e-01,\n",
       "         -4.59375292e-01, -4.62755293e-01, -6.59465045e-02,\n",
       "          3.90986234e-01,  4.56790000e-01],\n",
       "        [ 1.80288568e-01,  4.85228568e-01, -8.70053023e-02,\n",
       "         -3.81095380e-01, -2.30658323e-01, -5.70680089e-02,\n",
       "          2.02031851e-01,  2.36337975e-01, -2.86452830e-01,\n",
       "         -1.97019875e-01,  2.90883809e-01, -1.05776429e-01,\n",
       "          4.42930788e-01, -3.82559538e-01, -1.67679757e-01,\n",
       "         -1.26508683e-01, -1.51526421e-01, -2.09410518e-01,\n",
       "         -5.33370227e-02,  3.36737454e-01],\n",
       "        [-3.60971332e-01,  8.14762190e-02, -1.13500036e-01,\n",
       "          2.27573380e-01,  1.60846740e-01, -9.97519866e-02,\n",
       "         -2.68856972e-01,  1.32982463e-01,  1.26002222e-01,\n",
       "         -5.66280335e-02, -2.04053167e-02,  1.49580836e-01,\n",
       "          4.09236215e-02,  2.64489263e-01, -2.22487122e-01,\n",
       "          4.78204601e-02,  1.64385885e-01,  6.29436597e-02,\n",
       "          1.29080042e-01, -4.15554821e-01],\n",
       "        [ 5.55110127e-02,  1.73748638e-02, -1.76998302e-01,\n",
       "         -3.17915350e-01, -4.12528932e-01,  2.50438787e-02,\n",
       "          1.66993022e-01,  3.96864682e-01, -2.89646834e-01,\n",
       "         -2.44633734e-01, -2.59017885e-01, -3.47040802e-01,\n",
       "         -1.16368078e-01, -1.42702714e-01, -2.98407432e-02,\n",
       "         -4.26848263e-01, -5.82829192e-02,  1.24339610e-01,\n",
       "          2.68644452e-01,  1.18647620e-01],\n",
       "        [ 3.52138996e-01,  3.82267743e-01, -3.08962047e-01,\n",
       "         -4.13350075e-01, -4.66799617e-01, -5.16587347e-02,\n",
       "          4.68652219e-01,  2.79058754e-01, -1.42651513e-01,\n",
       "         -5.17963648e-01,  1.23401821e-01, -1.09675556e-01,\n",
       "          2.08231777e-01, -4.34558421e-01,  9.70736295e-02,\n",
       "         -4.84260827e-01, -2.29277968e-01,  4.65523541e-01,\n",
       "         -1.57811996e-02,  5.25452912e-01],\n",
       "        [ 2.28243396e-01,  5.08222044e-01, -5.50156653e-01,\n",
       "         -1.84227988e-01, -1.43457666e-01, -6.04912162e-01,\n",
       "          7.10847378e-01,  4.46399957e-01, -4.06734556e-01,\n",
       "         -2.23501429e-01,  1.79248646e-01, -2.70273387e-01,\n",
       "          4.47313786e-01, -3.58735144e-01,  2.69792706e-01,\n",
       "         -2.35484540e-01, -2.15008438e-01,  4.71696973e-01,\n",
       "          1.60379291e-01,  3.80565435e-01],\n",
       "        [ 1.32763788e-01,  1.63857371e-01, -9.69304293e-02,\n",
       "          1.03256665e-03, -4.37370658e-01,  2.51170825e-02,\n",
       "          3.95321280e-01, -1.17539942e-01, -2.49067947e-01,\n",
       "         -4.56612140e-01,  3.79960120e-01, -2.15090558e-01,\n",
       "          1.02359079e-01, -9.93948523e-03,  2.21338347e-01,\n",
       "         -3.36567193e-01, -1.10264473e-01,  2.29646787e-01,\n",
       "          3.93594205e-01,  2.69989491e-01],\n",
       "        [-2.72026449e-01,  7.21159875e-02,  4.78473231e-02,\n",
       "         -3.88791896e-02,  5.86388484e-02, -2.92299122e-01,\n",
       "         -2.69015264e-02,  1.28557831e-01, -2.74617672e-01,\n",
       "         -2.52535969e-01,  1.21811420e-01, -2.63380885e-01,\n",
       "         -3.49189639e-01, -9.32934359e-02, -9.51530039e-02,\n",
       "          3.09343003e-02,  1.37239844e-01, -3.56321782e-01,\n",
       "         -3.66226226e-01, -1.22364022e-01],\n",
       "        [ 3.14422518e-01, -2.14780178e-02, -1.17820568e-01,\n",
       "         -6.43341020e-02, -5.42210490e-02, -2.47115716e-01,\n",
       "          2.15685576e-01, -8.71879682e-02,  5.97950350e-03,\n",
       "         -4.52945456e-02,  2.05743819e-01, -1.96736768e-01,\n",
       "          3.55002344e-01, -3.42574656e-01, -6.85360208e-02,\n",
       "          2.50038877e-02, -1.19352020e-01,  2.96338767e-01,\n",
       "          1.01778001e-01, -1.54394984e-01],\n",
       "        [-3.09508324e-01, -7.25335330e-02,  3.31481211e-02,\n",
       "          1.62733681e-02, -1.71043709e-01,  8.70956555e-02,\n",
       "         -3.26725096e-01,  1.75219074e-01, -2.73497641e-01,\n",
       "          1.09442376e-01,  1.82798415e-01,  1.02887765e-01,\n",
       "          2.57321954e-01,  5.78459054e-02, -3.10243756e-01,\n",
       "          9.95837897e-02,  2.80862339e-02, -3.55422348e-01,\n",
       "         -3.10357690e-01,  3.68492566e-02],\n",
       "        [ 3.91066819e-02, -5.04982136e-02,  7.53203407e-02,\n",
       "         -4.87219542e-02, -8.94168168e-02,  1.65981911e-02,\n",
       "          1.48412704e-01,  5.83402067e-02,  8.74581747e-03,\n",
       "         -1.12447925e-02, -2.21165735e-02, -1.57044724e-01,\n",
       "          2.59402633e-01,  5.40528521e-02,  2.56318171e-02,\n",
       "          1.18001014e-01, -2.57604241e-01, -2.97473133e-01,\n",
       "          2.89346445e-02, -2.04214886e-01],\n",
       "        [ 2.48789668e-01, -3.64797503e-01, -4.28938091e-01,\n",
       "          7.15625435e-02,  8.73108394e-03, -5.86117022e-02,\n",
       "          3.46224070e-01, -3.66954952e-02, -7.12458640e-02,\n",
       "         -1.63977399e-01, -3.10538918e-01, -3.69212747e-01,\n",
       "         -2.47199759e-01, -3.76524478e-02,  7.94415176e-02,\n",
       "         -3.54564965e-01, -3.40583414e-01,  1.76706448e-01,\n",
       "          2.70676643e-01, -1.46356717e-04],\n",
       "        [ 5.38256206e-02,  2.20568553e-01, -4.38260376e-01,\n",
       "         -2.32659727e-02, -1.85736105e-01, -8.86166468e-02,\n",
       "          2.28497833e-02,  1.64777383e-01, -7.77541623e-02,\n",
       "         -3.32130939e-01, -1.36733741e-01, -6.94153607e-02,\n",
       "          3.83420914e-01, -2.78582901e-01,  2.75282472e-01,\n",
       "         -4.08467621e-01, -1.21276297e-01,  2.71998614e-01,\n",
       "         -1.87991902e-01,  1.66331213e-02],\n",
       "        [ 1.93351492e-01,  6.76538050e-02, -2.58712411e-01,\n",
       "         -3.53331834e-01,  4.85025942e-02, -5.98188303e-02,\n",
       "         -2.43717134e-01, -3.58910412e-01,  5.63379824e-02,\n",
       "         -3.12170863e-01,  2.43011728e-01, -2.72044927e-01,\n",
       "          2.77050197e-01,  1.21085867e-01,  2.65697539e-01,\n",
       "         -1.41514896e-03,  1.04481548e-01,  1.64535075e-01,\n",
       "          9.07654092e-02,  1.45187452e-01]], dtype=float32),\n",
       " array([ 0.17706288,  0.3368825 ,  0.12953882,  0.07795444,  0.16582607,\n",
       "         0.00701058,  0.2928182 ,  0.20799163, -0.0269501 ,  0.14307155,\n",
       "         0.11684147,  0.02379813,  0.21356472,  0.12338336,  0.15516548,\n",
       "         0.11871521,  0.1261697 ,  0.14178005,  0.16967371,  0.1772321 ],\n",
       "       dtype=float32),\n",
       " array([[ 0.98575526],\n",
       "        [ 0.875776  ],\n",
       "        [-1.021296  ],\n",
       "        [-0.8487357 ],\n",
       "        [-0.80511314],\n",
       "        [-0.8629106 ],\n",
       "        [ 0.76353896],\n",
       "        [ 0.8360791 ],\n",
       "        [-0.92024744],\n",
       "        [-0.51304495],\n",
       "        [ 1.0395676 ],\n",
       "        [-0.47513708],\n",
       "        [ 0.50146025],\n",
       "        [-0.79197824],\n",
       "        [ 0.6155177 ],\n",
       "        [-0.7028956 ],\n",
       "        [-0.6868417 ],\n",
       "        [ 0.98340976],\n",
       "        [ 1.0546337 ],\n",
       "        [ 0.8181431 ]], dtype=float32),\n",
       " array([0.15546411], dtype=float32)]"
      ]
     },
     "execution_count": 19,
     "metadata": {},
     "output_type": "execute_result"
    }
   ],
   "source": [
    "model.get_weights()"
   ]
  },
  {
   "cell_type": "markdown",
   "metadata": {},
   "source": [
    "### Visualizing The Training Process"
   ]
  },
  {
   "cell_type": "code",
   "execution_count": 20,
   "metadata": {},
   "outputs": [
    {
     "data": {
      "image/png": "[encoded data removed]",
      "text/plain": [
       "<Figure size 432x288 with 1 Axes>"
      ]
     },
     "metadata": {
      "needs_background": "light"
     },
     "output_type": "display_data"
    },
    {
     "data": {
      "image/png": "[encoded data removed]",
      "text/plain": [
       "<Figure size 432x288 with 1 Axes>"
      ]
     },
     "metadata": {
      "needs_background": "light"
     },
     "output_type": "display_data"
    }
   ],
   "source": [
    "import matplotlib.pyplot as plt\n",
    "\n",
    "acc = history.history['accuracy']\n",
    "val_acc = history.history['val_accuracy']\n",
    "loss = history.history['loss']\n",
    "val_loss = history.history['val_loss']\n",
    "epochs = range(1, len(acc) + 1)\n",
    "plt.plot(epochs, acc, 'bo', label='Training acc')\n",
    "plt.plot(epochs, val_acc, 'b', label='Validation acc')\n",
    "plt.title('Training and validation accuracy')\n",
    "plt.legend()\n",
    "plt.figure()\n",
    "plt.plot(epochs, loss, 'bo', label='Training loss')\n",
    "plt.plot(epochs, val_loss, 'b', label='Validation loss')\n",
    "plt.title('Training and validation loss')\n",
    "plt.legend()\n",
    "plt.show()"
   ]
  },
  {
   "cell_type": "markdown",
   "metadata": {},
   "source": [
    "### Predicting"
   ]
  },
  {
   "cell_type": "code",
   "execution_count": 21,
   "metadata": {},
   "outputs": [
    {
     "name": "stdout",
     "output_type": "stream",
     "text": [
      "[[4.6498656e-02]\n",
      " [9.9593437e-01]\n",
      " [9.6433880e-17]\n",
      " [2.2206461e-30]\n",
      " [2.6095323e-08]\n",
      " [1.0000000e+00]\n",
      " [6.9206440e-01]\n",
      " [1.2173317e-07]\n",
      " [1.8940191e-10]\n",
      " [9.9997687e-01]]\n",
      "25/25 [==============================] - 0s 488us/step - loss: 0.0448 - accuracy: 0.9774\n",
      "[0.044807229191064835, 0.9774436354637146]\n"
     ]
    },
    {
     "data": {
      "text/plain": [
       "'\\naccuracy: 97.74%'"
      ]
     },
     "execution_count": 21,
     "metadata": {},
     "output_type": "execute_result"
    }
   ],
   "source": [
    "y_predicted = model.predict(X_val)\n",
    "print(y_predicted[:10])\n",
    "\n",
    "# evaluate the model\n",
    "scores = model.evaluate(X_val, y_val)\n",
    "print(scores)\n",
    "\"\\n%s: %.2f%%\" % (model.metrics_names[1], scores[1] * 100)"
   ]
  },
  {
   "cell_type": "markdown",
   "metadata": {},
   "source": [
    "### Confusion Matrix"
   ]
  },
  {
   "cell_type": "code",
   "execution_count": 22,
   "metadata": {},
   "outputs": [
    {
     "data": {
      "text/plain": [
       "array([[400,   7],\n",
       "       [ 11, 380]])"
      ]
     },
     "execution_count": 22,
     "metadata": {},
     "output_type": "execute_result"
    }
   ],
   "source": [
    "y_pred = []\n",
    "for i in y_predicted:\n",
    "    if i < 0.5:\n",
    "        y_pred.append([0])\n",
    "    else:\n",
    "        y_pred.append([1])\n",
    "confusion_matrix(y_val, y_pred)"
   ]
  },
  {
   "cell_type": "markdown",
   "metadata": {},
   "source": [
    "### For a real system, see the _Compact Language Detector v3_: https://github.com/google/cld3\n",
    "and a reimplementation: https://github.com/pnugues/language-detector"
   ]
  },
  {
   "cell_type": "code",
   "execution_count": null,
   "metadata": {},
   "outputs": [],
   "source": []
  }
 ],
 "metadata": {
  "kernelspec": {
   "display_name": "Python 3",
   "language": "python",
   "name": "python3"
  },
  "language_info": {
   "codemirror_mode": {
    "name": "ipython",
    "version": 3
   },
   "file_extension": ".py",
   "mimetype": "text/x-python",
   "name": "python",
   "nbconvert_exporter": "python",
   "pygments_lexer": "ipython3",
   "version": "3.8.5"
  }
 },
 "nbformat": 4,
 "nbformat_minor": 4
}
