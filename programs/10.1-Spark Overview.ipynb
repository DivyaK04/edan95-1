{
 "cells": [
  {
   "cell_type": "markdown",
   "metadata": {},
   "source": [
    "# Lecture 10: Code"
   ]
  },
  {
   "cell_type": "markdown",
   "metadata": {},
   "source": [
    "## Functional Primer"
   ]
  },
  {
   "cell_type": "code",
   "execution_count": null,
   "metadata": {},
   "outputs": [],
   "source": [
    "from functools import reduce"
   ]
  },
  {
   "cell_type": "code",
   "execution_count": null,
   "metadata": {},
   "outputs": [],
   "source": [
    "data = [1, 3, 5, 7, 9]"
   ]
  },
  {
   "cell_type": "code",
   "execution_count": null,
   "metadata": {},
   "outputs": [],
   "source": [
    "f = lambda x: x*x\n",
    "p = lambda x: x > 5\n",
    "g = lambda x,y: x+y"
   ]
  },
  {
   "cell_type": "code",
   "execution_count": null,
   "metadata": {},
   "outputs": [],
   "source": [
    "f(4)"
   ]
  },
  {
   "cell_type": "code",
   "execution_count": null,
   "metadata": {},
   "outputs": [],
   "source": [
    "p(3)"
   ]
  },
  {
   "cell_type": "code",
   "execution_count": null,
   "metadata": {},
   "outputs": [],
   "source": [
    "p(7)"
   ]
  },
  {
   "cell_type": "code",
   "execution_count": null,
   "metadata": {},
   "outputs": [],
   "source": [
    "g(4,g(2,6)) == g(g(4,2),6)"
   ]
  },
  {
   "cell_type": "code",
   "execution_count": null,
   "metadata": {},
   "outputs": [],
   "source": [
    "list(map(f, data))"
   ]
  },
  {
   "cell_type": "code",
   "execution_count": null,
   "metadata": {},
   "outputs": [],
   "source": [
    "list(filter(p, data))"
   ]
  },
  {
   "cell_type": "code",
   "execution_count": null,
   "metadata": {},
   "outputs": [],
   "source": [
    "reduce(g, data)"
   ]
  },
  {
   "cell_type": "markdown",
   "metadata": {},
   "source": [
    "## PATHS\n",
    "\n",
    "Set the paths below to be able to run it all."
   ]
  },
  {
   "cell_type": "code",
   "execution_count": null,
   "metadata": {},
   "outputs": [],
   "source": [
    "ENWIKI_FULL=\"file:/usr/local/cs/EDAN95/datasets/wikipedia/enwiki\"\n",
    "ENWIKI_1P=\"file:/usr/local/cs/EDAN95/datasets/wikipedia/enwiki_1p\"\n",
    "SPARK_HOME=\"file:/usr/local/spark\""
   ]
  },
  {
   "cell_type": "markdown",
   "metadata": {},
   "source": [
    "## Spark"
   ]
  },
  {
   "cell_type": "code",
   "execution_count": null,
   "metadata": {},
   "outputs": [],
   "source": [
    "import os\n",
    "import sys"
   ]
  },
  {
   "cell_type": "code",
   "execution_count": null,
   "metadata": {},
   "outputs": [],
   "source": [
    "os.environ[\"SPARK_HOME\"] = SPARK_HOME"
   ]
  },
  {
   "cell_type": "code",
   "execution_count": null,
   "metadata": {},
   "outputs": [],
   "source": [
    "sys.path.append(os.path.join(os.environ[\"SPARK_HOME\"], \"python\"))\n",
    "sys.path.append(os.path.join(os.environ[\"SPARK_HOME\"], \"python\", \"lib\", \"py4j-0.10.7-src.zip\"))"
   ]
  },
  {
   "cell_type": "code",
   "execution_count": null,
   "metadata": {},
   "outputs": [],
   "source": [
    "import pyspark"
   ]
  },
  {
   "cell_type": "markdown",
   "metadata": {},
   "source": [
    "Sets the **JVM** Max Heap Size to 8GB, data which is cached or intermediary is stored in a JVM."
   ]
  },
  {
   "cell_type": "code",
   "execution_count": null,
   "metadata": {},
   "outputs": [],
   "source": [
    "config = (pyspark.SparkConf()\n",
    "                .setAll([('spark.executor.memory', '8g'), \n",
    "                         ('spark.driver.memory','8g')]))"
   ]
  },
  {
   "cell_type": "code",
   "execution_count": null,
   "metadata": {},
   "outputs": [],
   "source": [
    "sc = pyspark.SparkContext(conf=config)"
   ]
  },
  {
   "cell_type": "markdown",
   "metadata": {},
   "source": [
    "# Section A"
   ]
  },
  {
   "cell_type": "markdown",
   "metadata": {},
   "source": [
    "First program"
   ]
  },
  {
   "cell_type": "code",
   "execution_count": null,
   "metadata": {},
   "outputs": [],
   "source": [
    "lines = sc.textFile(ENWIKI_1P, 4)"
   ]
  },
  {
   "cell_type": "code",
   "execution_count": null,
   "metadata": {},
   "outputs": [],
   "source": [
    "lines.count()"
   ]
  },
  {
   "cell_type": "code",
   "execution_count": null,
   "metadata": {},
   "outputs": [],
   "source": [
    "pythonLines = lines.filter(lambda line : \"Python\" in line)"
   ]
  },
  {
   "cell_type": "code",
   "execution_count": null,
   "metadata": {},
   "outputs": [],
   "source": [
    "pythonLines.first()"
   ]
  },
  {
   "cell_type": "markdown",
   "metadata": {},
   "source": [
    "collect()"
   ]
  },
  {
   "cell_type": "code",
   "execution_count": null,
   "metadata": {},
   "outputs": [],
   "source": [
    "rdd = sc.parallelize([1, 2, 3])\n",
    "rdd.collect()"
   ]
  },
  {
   "cell_type": "markdown",
   "metadata": {},
   "source": [
    "map()"
   ]
  },
  {
   "cell_type": "code",
   "execution_count": null,
   "metadata": {},
   "outputs": [],
   "source": [
    "rdd = sc.parallelize([1, 2, 3, 4])"
   ]
  },
  {
   "cell_type": "code",
   "execution_count": null,
   "metadata": {},
   "outputs": [],
   "source": [
    "rdd.map(lambda x: x * 2)"
   ]
  },
  {
   "cell_type": "code",
   "execution_count": null,
   "metadata": {},
   "outputs": [],
   "source": [
    "rdd.map(lambda x: x * 2).collect()"
   ]
  },
  {
   "cell_type": "markdown",
   "metadata": {},
   "source": [
    "filter()"
   ]
  },
  {
   "cell_type": "code",
   "execution_count": null,
   "metadata": {},
   "outputs": [],
   "source": [
    "rdd = sc.parallelize([1, 2, 3, 4])"
   ]
  },
  {
   "cell_type": "code",
   "execution_count": null,
   "metadata": {},
   "outputs": [],
   "source": [
    "rdd.filter(lambda x: x % 2 == 0).collect()"
   ]
  },
  {
   "cell_type": "markdown",
   "metadata": {},
   "source": [
    "flatMap()"
   ]
  },
  {
   "cell_type": "code",
   "execution_count": null,
   "metadata": {},
   "outputs": [],
   "source": [
    "rdd = sc.parallelize([1, 2, 3])"
   ]
  },
  {
   "cell_type": "code",
   "execution_count": null,
   "metadata": {},
   "outputs": [],
   "source": [
    "rdd.map(lambda x: [x, x * 2]).collect()"
   ]
  },
  {
   "cell_type": "code",
   "execution_count": null,
   "metadata": {},
   "outputs": [],
   "source": [
    "rdd.flatMap(lambda x: [x, x * 2]).collect()"
   ]
  },
  {
   "cell_type": "markdown",
   "metadata": {},
   "source": [
    "count()"
   ]
  },
  {
   "cell_type": "code",
   "execution_count": null,
   "metadata": {},
   "outputs": [],
   "source": [
    "rdd = sc.parallelize([1, 2, 3, 4])"
   ]
  },
  {
   "cell_type": "code",
   "execution_count": null,
   "metadata": {},
   "outputs": [],
   "source": [
    "rdd.count()"
   ]
  },
  {
   "cell_type": "markdown",
   "metadata": {},
   "source": [
    "# Section B"
   ]
  },
  {
   "cell_type": "markdown",
   "metadata": {},
   "source": [
    "reduce()"
   ]
  },
  {
   "cell_type": "code",
   "execution_count": null,
   "metadata": {},
   "outputs": [],
   "source": [
    "rdd = sc.parallelize([1,2,3])"
   ]
  },
  {
   "cell_type": "code",
   "execution_count": null,
   "metadata": {},
   "outputs": [],
   "source": [
    "rdd.reduce(lambda x, y: y+x)"
   ]
  },
  {
   "cell_type": "code",
   "execution_count": null,
   "metadata": {},
   "outputs": [],
   "source": [
    "from operator import add\n",
    "rdd.reduce(add)"
   ]
  },
  {
   "cell_type": "markdown",
   "metadata": {},
   "source": [
    "take(), first(), top(), takeSample()"
   ]
  },
  {
   "cell_type": "code",
   "execution_count": null,
   "metadata": {},
   "outputs": [],
   "source": [
    "lines.take(5)"
   ]
  },
  {
   "cell_type": "code",
   "execution_count": null,
   "metadata": {},
   "outputs": [],
   "source": [
    "lines.takeSample(False, 5)"
   ]
  },
  {
   "cell_type": "code",
   "execution_count": null,
   "metadata": {},
   "outputs": [],
   "source": [
    "lines.takeOrdered(10)"
   ]
  },
  {
   "cell_type": "code",
   "execution_count": null,
   "metadata": {},
   "outputs": [],
   "source": [
    "lines.top(10)"
   ]
  },
  {
   "cell_type": "markdown",
   "metadata": {},
   "source": [
    "Sample()"
   ]
  },
  {
   "cell_type": "code",
   "execution_count": null,
   "metadata": {},
   "outputs": [],
   "source": [
    "lines.sample(withReplacement=False, fraction=0.01).count()"
   ]
  },
  {
   "cell_type": "code",
   "execution_count": null,
   "metadata": {},
   "outputs": [],
   "source": [
    "lines.sample(withReplacement=False, fraction=0.1).count()"
   ]
  },
  {
   "cell_type": "code",
   "execution_count": null,
   "metadata": {},
   "outputs": [],
   "source": [
    "lines.sample(withReplacement=False, fraction=0.5).count()"
   ]
  },
  {
   "cell_type": "code",
   "execution_count": null,
   "metadata": {},
   "outputs": [],
   "source": [
    "lines.count()"
   ]
  },
  {
   "cell_type": "markdown",
   "metadata": {},
   "source": [
    "Building a pipeline of RDD operations"
   ]
  },
  {
   "cell_type": "code",
   "execution_count": null,
   "metadata": {},
   "outputs": [],
   "source": [
    "(lines\n",
    " .map(str.upper)\n",
    " .filter(lambda line: \"LTH\" in line)\n",
    " .count())"
   ]
  },
  {
   "cell_type": "markdown",
   "metadata": {},
   "source": [
    "# Section C"
   ]
  },
  {
   "cell_type": "markdown",
   "metadata": {},
   "source": [
    "Working with key/value pairs"
   ]
  },
  {
   "cell_type": "code",
   "execution_count": null,
   "metadata": {},
   "outputs": [],
   "source": [
    "pairs = sc.parallelize([(\"a\", 2), (\"b\", 6)]) "
   ]
  },
  {
   "cell_type": "code",
   "execution_count": null,
   "metadata": {},
   "outputs": [],
   "source": [
    "pairs.collect()"
   ]
  },
  {
   "cell_type": "code",
   "execution_count": null,
   "metadata": {},
   "outputs": [],
   "source": [
    "pairs.collectAsMap()"
   ]
  },
  {
   "cell_type": "code",
   "execution_count": null,
   "metadata": {},
   "outputs": [],
   "source": [
    "pairs = sc.parallelize({\"a\":2, \"b\":6}.items())"
   ]
  },
  {
   "cell_type": "code",
   "execution_count": null,
   "metadata": {},
   "outputs": [],
   "source": [
    "pairs.collect()"
   ]
  },
  {
   "cell_type": "code",
   "execution_count": null,
   "metadata": {},
   "outputs": [],
   "source": [
    "pairs.collectAsMap()"
   ]
  },
  {
   "cell_type": "markdown",
   "metadata": {},
   "source": [
    "reduceByKey()"
   ]
  },
  {
   "cell_type": "code",
   "execution_count": null,
   "metadata": {},
   "outputs": [],
   "source": [
    "rdd = sc.parallelize([(\"a\", 2), (\"b\", 4), (\"b\", 6)])"
   ]
  },
  {
   "cell_type": "code",
   "execution_count": null,
   "metadata": {},
   "outputs": [],
   "source": [
    "rdd.reduceByKey(lambda x, y: x + y).collect()"
   ]
  },
  {
   "cell_type": "code",
   "execution_count": null,
   "metadata": {},
   "outputs": [],
   "source": [
    "import regex as re"
   ]
  },
  {
   "cell_type": "code",
   "execution_count": null,
   "metadata": {},
   "outputs": [],
   "source": [
    "m = re.compile(\"\\p{Ll}+\")"
   ]
  },
  {
   "cell_type": "markdown",
   "metadata": {},
   "source": [
    "countWords matching words by regex"
   ]
  },
  {
   "cell_type": "code",
   "execution_count": null,
   "metadata": {},
   "outputs": [],
   "source": [
    "(lines\n",
    ".flatMap(lambda par: par.split())\n",
    ".filter(lambda t: m.fullmatch(t) is not None)\n",
    ".map(lambda w: (w,1))\n",
    ".reduceByKey(add)\n",
    ".top(20,key=lambda tup: tup[1]))"
   ]
  },
  {
   "cell_type": "code",
   "execution_count": null,
   "metadata": {},
   "outputs": [],
   "source": [
    "rdd = sc.parallelize([0,1,2,3,4],2)"
   ]
  },
  {
   "cell_type": "markdown",
   "metadata": {},
   "source": [
    "# Section D"
   ]
  },
  {
   "cell_type": "code",
   "execution_count": null,
   "metadata": {},
   "outputs": [],
   "source": [
    "lines.getNumPartitions()"
   ]
  },
  {
   "cell_type": "code",
   "execution_count": null,
   "metadata": {},
   "outputs": [],
   "source": [
    "lines.repartition(64).getNumPartitions()"
   ]
  },
  {
   "cell_type": "code",
   "execution_count": null,
   "metadata": {},
   "outputs": [],
   "source": [
    "lines.coalesce(48,shuffle=False).getNumPartitions()"
   ]
  },
  {
   "cell_type": "markdown",
   "metadata": {},
   "source": [
    "mapPartitions()"
   ]
  },
  {
   "cell_type": "code",
   "execution_count": null,
   "metadata": {},
   "outputs": [],
   "source": [
    "rdd = sc.parallelize([0,1,2,3,4],2)"
   ]
  },
  {
   "cell_type": "code",
   "execution_count": null,
   "metadata": {},
   "outputs": [],
   "source": [
    "rdd.mapPartitions(lambda partition: [sum(partition)]).collect()"
   ]
  },
  {
   "cell_type": "markdown",
   "metadata": {},
   "source": [
    "zipWithIndex()"
   ]
  },
  {
   "cell_type": "code",
   "execution_count": null,
   "metadata": {},
   "outputs": [],
   "source": [
    "rdd = sc.parallelize([4,3,2,1,0],2)"
   ]
  },
  {
   "cell_type": "code",
   "execution_count": null,
   "metadata": {},
   "outputs": [],
   "source": [
    "rdd.zipWithIndex().collect()"
   ]
  },
  {
   "cell_type": "markdown",
   "metadata": {},
   "source": [
    "fold()"
   ]
  },
  {
   "cell_type": "code",
   "execution_count": null,
   "metadata": {},
   "outputs": [],
   "source": [
    "rdd = sc.parallelize([1, 2, 3, 4, 5])"
   ]
  },
  {
   "cell_type": "code",
   "execution_count": null,
   "metadata": {},
   "outputs": [],
   "source": [
    "from operator import add"
   ]
  },
  {
   "cell_type": "code",
   "execution_count": null,
   "metadata": {},
   "outputs": [],
   "source": [
    "rdd.fold(0, add)"
   ]
  },
  {
   "cell_type": "markdown",
   "metadata": {},
   "source": [
    "# Sampling"
   ]
  },
  {
   "cell_type": "code",
   "execution_count": 70,
   "metadata": {},
   "outputs": [],
   "source": [
    "lines_full = sc.textFile(ENWIKI)"
   ]
  },
  {
   "cell_type": "code",
   "execution_count": 82,
   "metadata": {},
   "outputs": [],
   "source": [
    "def show_number(n):\n",
    "    print(\"{:,}\".format(n))"
   ]
  },
  {
   "cell_type": "code",
   "execution_count": 83,
   "metadata": {},
   "outputs": [
    {
     "name": "stdout",
     "output_type": "stream",
     "text": [
      "35,650,731\n"
     ]
    }
   ],
   "source": [
    "show_number(lines_full.count())"
   ]
  },
  {
   "cell_type": "markdown",
   "metadata": {},
   "source": [
    "Count the total number of words in this corpus"
   ]
  },
  {
   "cell_type": "code",
   "execution_count": 84,
   "metadata": {},
   "outputs": [
    {
     "name": "stdout",
     "output_type": "stream",
     "text": [
      "2,436,444,385\n"
     ]
    }
   ],
   "source": [
    "show_number(lines_full.mapPartitions(lambda data: [sum([len(ln.split()) for ln in data])]).sum())"
   ]
  },
  {
   "cell_type": "code",
   "execution_count": 78,
   "metadata": {},
   "outputs": [],
   "source": [
    "N=250"
   ]
  },
  {
   "cell_type": "code",
   "execution_count": 72,
   "metadata": {},
   "outputs": [],
   "source": [
    "data_1p = (lines_full\n",
    ".sample(False, 0.01)\n",
    ".flatMap(lambda ln: ln.split())\n",
    ".map(lambda w: (w,1))\n",
    ".reduceByKey(add)\n",
    ".top(N, key=lambda tup: tup[1]))"
   ]
  },
  {
   "cell_type": "code",
   "execution_count": 73,
   "metadata": {},
   "outputs": [],
   "source": [
    "data_2p = (lines_full\n",
    ".sample(False, 0.02)\n",
    ".flatMap(lambda ln: ln.split())\n",
    ".map(lambda w: (w,1))\n",
    ".reduceByKey(add)\n",
    ".top(N, key=lambda tup: tup[1]))"
   ]
  },
  {
   "cell_type": "code",
   "execution_count": 74,
   "metadata": {},
   "outputs": [],
   "source": [
    "data_5p = (lines_full\n",
    ".sample(False, 0.05)\n",
    ".flatMap(lambda ln: ln.split())\n",
    ".map(lambda w: (w,1))\n",
    ".reduceByKey(add)\n",
    ".top(N, key=lambda tup: tup[1]))"
   ]
  },
  {
   "cell_type": "code",
   "execution_count": 75,
   "metadata": {},
   "outputs": [],
   "source": [
    "data_10p = (lines_full\n",
    ".sample(False, 0.10)\n",
    ".flatMap(lambda ln: ln.split())\n",
    ".map(lambda w: (w,1))\n",
    ".reduceByKey(add)\n",
    ".top(N, key=lambda tup: tup[1]))"
   ]
  },
  {
   "cell_type": "code",
   "execution_count": 76,
   "metadata": {},
   "outputs": [],
   "source": [
    "data_100p = (lines_full\n",
    ".flatMap(lambda ln: ln.split())\n",
    ".map(lambda w: (w,1))\n",
    ".reduceByKey(add)\n",
    ".top(N, key=lambda tup: tup[1]))"
   ]
  },
  {
   "cell_type": "code",
   "execution_count": 77,
   "metadata": {},
   "outputs": [
    {
     "data": {
      "text/html": [
       "<table><thead><tr><th>Rank</th><th>1%</th><th>2%</th><th>5%</th><th>10%</th><th>100%</th></tr></thead><tbody><tr><td>1.</td><td>the = 1295777</td><td>the = 2576230</td><td>the = 6450018</td><td>the = 12906596</td><td>the = 129146052</td></tr><tr><td>2.</td><td>, = 1216636</td><td>, = 2422925</td><td>, = 6051002</td><td>, = 12116073</td><td>, = 121262253</td></tr><tr><td>3.</td><td>. = 981308</td><td>. = 1952881</td><td>. = 4893649</td><td>. = 9792863</td><td>. = 97981464</td></tr><tr><td>4.</td><td>of = 710110</td><td>of = 1411854</td><td>of = 3533316</td><td>of = 7077155</td><td>of = 70762800</td></tr><tr><td>5.</td><td>and = 612371</td><td>and = 1217615</td><td>and = 3043562</td><td>and = 6088457</td><td>and = 60937731</td></tr><tr><td>6.</td><td>in = 534006</td><td>in = 1063723</td><td>in = 2657982</td><td>in = 5324402</td><td>in = 53276318</td></tr><tr><td>7.</td><td>to = 434632</td><td>to = 864914</td><td>to = 2159499</td><td>to = 4323734</td><td>to = 43255228</td></tr><tr><td>8.</td><td>a = 421894</td><td>a = 841339</td><td>a = 2104875</td><td>a = 4210952</td><td>a = 42109642</td></tr><tr><td>9.</td><td>was = 261481</td><td>was = 521288</td><td>was = 1307646</td><td>was = 2609620</td><td>was = 26166800</td></tr><tr><td>10.</td><td>The = 218004</td><td>The = 433546</td><td>The = 1084871</td><td>The = 2170256</td><td>The = 21719562</td></tr><tr><td>11.</td><td>- = 217554</td><td>- = 433124</td><td>- = 1081529</td><td>- = 2167836</td><td>- = 21697810</td></tr><tr><td>12.</td><td>is = 210006</td><td>is = 419469</td><td>is = 1047002</td><td>is = 2096116</td><td>is = 20960054</td></tr><tr><td>13.</td><td>\" = 202142</td><td>\" = 396042</td><td>\" = 992932</td><td>\" = 1992909</td><td>\" = 19925313</td></tr><tr><td>14.</td><td>) = 188895</td><td>) = 376960</td><td>) = 939338</td><td>) = 1885872</td><td>) = 18835878</td></tr><tr><td>15.</td><td>( = 188590</td><td>( = 376403</td><td>( = 937834</td><td>( = 1882990</td><td>( = 18806350</td></tr><tr><td>16.</td><td>for = 170780</td><td>for = 341120</td><td>for = 852718</td><td>for = 1705493</td><td>for = 17095980</td></tr><tr><td>17.</td><td>as = 161730</td><td>as = 322367</td><td>as = 805766</td><td>as = 1613409</td><td>as = 16130587</td></tr><tr><td>18.</td><td>on = 157141</td><td>on = 312173</td><td>on = 778852</td><td>on = 1562762</td><td>on = 15621374</td></tr><tr><td>19.</td><td>with = 148468</td><td>with = 295668</td><td>with = 736364</td><td>with = 1478376</td><td>with = 14787874</td></tr><tr><td>20.</td><td>by = 147045</td><td>by = 292397</td><td>by = 730742</td><td>by = 1461456</td><td>by = 14637509</td></tr><tr><td>21.</td><td>'s = 126943</td><td>'s = 250971</td><td>'s = 630703</td><td>'s = 1258885</td><td>'s = 12597693</td></tr><tr><td>22.</td><td>that = 121666</td><td>that = 241299</td><td>that = 602401</td><td>that = 1205301</td><td>that = 12063908</td></tr><tr><td>23.</td><td>from = 108157</td><td>from = 214500</td><td>from = 538710</td><td>from = 1076696</td><td>from = 10769276</td></tr><tr><td>24.</td><td>at = 108153</td><td>at = 213867</td><td>at = 537795</td><td>at = 1073982</td><td>at = 10737165</td></tr><tr><td>25.</td><td>his = 95614</td><td>his = 191045</td><td>his = 476905</td><td>his = 954881</td><td>his = 9551071</td></tr><tr><td>26.</td><td>In = 81709</td><td>In = 162880</td><td>In = 409918</td><td>In = 819112</td><td>In = 8195605</td></tr><tr><td>27.</td><td>an = 79448</td><td>he = 157767</td><td>he = 394352</td><td>an = 789886</td><td>an = 7901571</td></tr><tr><td>28.</td><td>he = 78993</td><td>an = 157274</td><td>an = 393845</td><td>he = 785720</td><td>he = 7870388</td></tr><tr><td>29.</td><td>were = 70390</td><td>were = 139553</td><td>were = 350043</td><td>were = 697322</td><td>were = 6985246</td></tr><tr><td>30.</td><td>are = 64464</td><td>are = 129096</td><td>are = 321757</td><td>are = 642067</td><td>are = 6431198</td></tr><tr><td>31.</td><td>which = 63645</td><td>which = 128014</td><td>which = 319401</td><td>which = 639827</td><td>which = 6392385</td></tr><tr><td>32.</td><td>: = 61794</td><td>: = 123055</td><td>: = 308067</td><td>: = 614464</td><td>: = 6155855</td></tr><tr><td>33.</td><td>it = 59949</td><td>it = 119309</td><td>it = 298887</td><td>it = 598931</td><td>it = 5985471</td></tr><tr><td>34.</td><td>He = 56230</td><td>He = 112451</td><td>He = 280681</td><td>He = 561103</td><td>He = 5637061</td></tr><tr><td>35.</td><td>be = 52969</td><td>be = 104886</td><td>be = 262831</td><td>be = 527740</td><td>be = 5275229</td></tr><tr><td>36.</td><td>also = 52157</td><td>also = 103919</td><td>also = 259635</td><td>also = 520252</td><td>also = 5204394</td></tr><tr><td>37.</td><td>or = 51055</td><td>or = 101237</td><td>or = 252540</td><td>or = 506166</td><td>or = 5059211</td></tr><tr><td>38.</td><td>has = 50384</td><td>has = 101196</td><td>had = 252152</td><td>had = 504305</td><td>had = 5046889</td></tr><tr><td>39.</td><td>had = 50356</td><td>had = 100394</td><td>has = 250225</td><td>has = 501816</td><td>has = 5024544</td></tr><tr><td>40.</td><td>first = 45352</td><td>first = 90294</td><td>first = 227473</td><td>first = 455542</td><td>first = 4558368</td></tr><tr><td>41.</td><td>It = 42677</td><td>It = 85034</td><td>It = 213198</td><td>It = 426055</td><td>It = 4263436</td></tr><tr><td>42.</td><td>their = 41469</td><td>their = 82242</td><td>their = 206384</td><td>their = 414808</td><td>their = 4136091</td></tr><tr><td>43.</td><td>who = 39181</td><td>who = 77814</td><td>who = 194072</td><td>who = 387849</td><td>who = 3872859</td></tr><tr><td>44.</td><td>one = 38782</td><td>one = 77207</td><td>one = 193549</td><td>one = 387622</td><td>one = 3872858</td></tr><tr><td>45.</td><td>not = 38577</td><td>not = 76464</td><td>not = 191231</td><td>its = 382038</td><td>its = 3823971</td></tr><tr><td>46.</td><td>its = 38214</td><td>but = 76219</td><td>its = 190602</td><td>not = 381593</td><td>not = 3823236</td></tr><tr><td>47.</td><td>but = 38055</td><td>its = 76124</td><td>but = 188978</td><td>but = 378205</td><td>but = 3786809</td></tr><tr><td>48.</td><td>; = 37226</td><td>; = 73074</td><td>; = 184253</td><td>; = 368627</td><td>; = 3683505</td></tr><tr><td>49.</td><td>have = 35092</td><td>her = 71531</td><td>have = 176803</td><td>have = 353407</td><td>have = 3540129</td></tr><tr><td>50.</td><td>her = 35073</td><td>have = 70549</td><td>her = 176426</td><td>her = 352650</td><td>her = 3538366</td></tr><tr><td>51.</td><td>this = 34717</td><td>this = 68729</td><td>this = 171944</td><td>this = 343921</td><td>this = 3440451</td></tr><tr><td>52.</td><td>two = 34393</td><td>two = 68568</td><td>two = 169858</td><td>two = 340766</td><td>two = 3406391</td></tr><tr><td>53.</td><td>been = 32152</td><td>been = 64822</td><td>been = 162024</td><td>been = 323602</td><td>been = 3239934</td></tr><tr><td>54.</td><td>after = 28036</td><td>after = 55294</td><td>after = 138977</td><td>after = 277627</td><td>after = 2777105</td></tr><tr><td>55.</td><td>they = 27386</td><td>they = 54743</td><td>' = 136249</td><td>they = 273296</td><td>they = 2731375</td></tr><tr><td>56.</td><td>' = 27096</td><td>' = 54578</td><td>they = 135812</td><td>' = 271572</td><td>' = 2718803</td></tr><tr><td>57.</td><td>other = 26534</td><td>other = 52788</td><td>other = 131664</td><td>time = 263531</td><td>other = 2634867</td></tr><tr><td>58.</td><td>time = 26175</td><td>time = 52658</td><td>time = 130982</td><td>other = 263439</td><td>time = 2629569</td></tr><tr><td>59.</td><td>– = 25488</td><td>– = 51530</td><td>into = 128270</td><td>into = 255510</td><td>into = 2560173</td></tr><tr><td>60.</td><td>into = 25343</td><td>into = 51102</td><td>– = 127512</td><td>– = 254714</td><td>– = 2553520</td></tr><tr><td>61.</td><td>A = 24663</td><td>A = 48477</td><td>A = 122107</td><td>A = 244358</td><td>A = 2447858</td></tr><tr><td>62.</td><td>all = 23732</td><td>all = 47068</td><td>% = 117972</td><td>all = 235602</td><td>all = 2360989</td></tr><tr><td>63.</td><td>% = 23617</td><td>% = 47047</td><td>all = 117687</td><td>% = 235126</td><td>% = 2353747</td></tr><tr><td>64.</td><td>she = 23259</td><td>she = 46327</td><td>she = 114212</td><td>she = 228501</td><td>she = 2297588</td></tr><tr><td>65.</td><td>more = 22590</td><td>more = 44773</td><td>more = 111770</td><td>more = 223602</td><td>more = 2239915</td></tr><tr><td>66.</td><td>th = 22128</td><td>when = 44648</td><td>when = 111056</td><td>when = 222994</td><td>when = 2232145</td></tr><tr><td>67.</td><td>when = 22102</td><td>th = 43334</td><td>th = 109804</td><td>th = 218138</td><td>th = 2185704</td></tr><tr><td>68.</td><td>This = 21679</td><td>This = 43216</td><td>This = 108281</td><td>This = 217253</td><td>This = 2174630</td></tr><tr><td>69.</td><td>years = 21609</td><td>years = 42786</td><td>/ = 107047</td><td>years = 213422</td><td>years = 2134997</td></tr><tr><td>70.</td><td>/ = 21429</td><td>/ = 42598</td><td>years = 106397</td><td>/ = 212350</td><td>/ = 2132451</td></tr><tr><td>71.</td><td>up = 21352</td><td>up = 42034</td><td>up = 105388</td><td>up = 211194</td><td>up = 2117755</td></tr><tr><td>72.</td><td>would = 21002</td><td>would = 41973</td><td>would = 104754</td><td>would = 210209</td><td>would = 2106760</td></tr><tr><td>73.</td><td>over = 20915</td><td>over = 41229</td><td>over = 103934</td><td>over = 207848</td><td>over = 2077985</td></tr><tr><td>74.</td><td>only = 20611</td><td>only = 40765</td><td>only = 102483</td><td>only = 204125</td><td>only = 2045394</td></tr><tr><td>75.</td><td>New = 20280</td><td>New = 40495</td><td>New = 101656</td><td>New = 203720</td><td>New = 2032720</td></tr><tr><td>76.</td><td>where = 19949</td><td>where = 39907</td><td>where = 99787</td><td>where = 199128</td><td>where = 2000675</td></tr><tr><td>77.</td><td>during = 19841</td><td>during = 39246</td><td>year = 98150</td><td>during = 196416</td><td>year = 1972807</td></tr><tr><td>78.</td><td>new = 19614</td><td>year = 39218</td><td>during = 98046</td><td>year = 196407</td><td>during = 1966523</td></tr><tr><td>79.</td><td>On = 19609</td><td>new = 39123</td><td>On = 97409</td><td>On = 195341</td><td>On = 1956567</td></tr><tr><td>80.</td><td>year = 19524</td><td>1 = 38859</td><td>1 = 96499</td><td>1 = 194351</td><td>1 = 1943212</td></tr><tr><td>81.</td><td>1 = 19514</td><td>On = 38831</td><td>new = 96218</td><td>new = 193868</td><td>new = 1939613</td></tr><tr><td>82.</td><td>between = 19154</td><td>him = 38028</td><td>him = 95256</td><td>between = 189794</td><td>him = 1892816</td></tr><tr><td>83.</td><td>him = 18987</td><td>between = 37613</td><td>between = 94269</td><td>him = 189449</td><td>between = 1891695</td></tr><tr><td>84.</td><td>out = 18588</td><td>out = 37308</td><td>out = 92656</td><td>out = 186214</td><td>out = 1854900</td></tr><tr><td>85.</td><td>three = 18405</td><td>three = 37276</td><td>three = 92616</td><td>three = 185637</td><td>three = 1854194</td></tr><tr><td>86.</td><td>made = 18155</td><td>made = 36816</td><td>made = 91872</td><td>made = 183370</td><td>made = 1838400</td></tr><tr><td>87.</td><td>such = 18094</td><td>can = 36233</td><td>can = 89961</td><td>can = 181074</td><td>can = 1811265</td></tr><tr><td>88.</td><td>can = 18094</td><td>most = 35994</td><td>used = 89873</td><td>used = 179463</td><td>then = 1792486</td></tr><tr><td>89.</td><td>used = 18016</td><td>such = 35812</td><td>such = 89535</td><td>then = 179437</td><td>such = 1792212</td></tr><tr><td>90.</td><td>most = 18006</td><td>then = 35744</td><td>then = 89310</td><td>such = 178839</td><td>used = 1792143</td></tr><tr><td>91.</td><td>then = 17970</td><td>about = 35565</td><td>known = 89058</td><td>most = 178812</td><td>most = 1788559</td></tr><tr><td>92.</td><td>about = 17783</td><td>used = 35563</td><td>most = 89057</td><td>known = 178689</td><td>known = 1782904</td></tr><tr><td>93.</td><td>known = 17741</td><td>known = 35416</td><td>about = 88400</td><td>about = 176324</td><td>about = 1766318</td></tr><tr><td>94.</td><td>later = 17428</td><td>later = 34886</td><td>later = 87321</td><td>later = 174331</td><td>later = 1750802</td></tr><tr><td>95.</td><td>2 = 17311</td><td>2 = 34051</td><td>2 = 85768</td><td>2 = 171817</td><td>2 = 1720453</td></tr><tr><td>96.</td><td>United = 17088</td><td>United = 33752</td><td>part = 83953</td><td>under = 168551</td><td>United = 1689423</td></tr><tr><td>97.</td><td>than = 17037</td><td>part = 33585</td><td>United = 83842</td><td>United = 167937</td><td>under = 1675761</td></tr><tr><td>98.</td><td>part = 17009</td><td>than = 33451</td><td>under = 83555</td><td>than = 166808</td><td>than = 1674727</td></tr><tr><td>99.</td><td>season = 16619</td><td>under = 33359</td><td>than = 83077</td><td>part = 166230</td><td>part = 1667222</td></tr><tr><td>100.</td><td>under = 16536</td><td>season = 32815</td><td>became = 82355</td><td>became = 164905</td><td>became = 1648069</td></tr><tr><td>101.</td><td>became = 16424</td><td>s = 32719</td><td>s = 81941</td><td>season = 163592</td><td>season = 1641924</td></tr><tr><td>102.</td><td>s = 16342</td><td>became = 32574</td><td>season = 81724</td><td>s = 162652</td><td>American = 1635577</td></tr><tr><td>103.</td><td>American = 16191</td><td>American = 32252</td><td>American = 81585</td><td>American = 162641</td><td>s = 1634004</td></tr><tr><td>104.</td><td>there = 16183</td><td>there = 32176</td><td>there = 80939</td><td>there = 161612</td><td>there = 1620108</td></tr><tr><td>105.</td><td>well = 15761</td><td>being = 31081</td><td>including = 77996</td><td>University = 155696</td><td>University = 1560474</td></tr><tr><td>106.</td><td>team = 15733</td><td>some = 30960</td><td>some = 77966</td><td>some = 155602</td><td>including = 1558301</td></tr><tr><td>107.</td><td>being = 15681</td><td>including = 30901</td><td>University = 77753</td><td>including = 155312</td><td>some = 1555698</td></tr><tr><td>108.</td><td>including = 15634</td><td>well = 30858</td><td>team = 77498</td><td>team = 154968</td><td>team = 1554105</td></tr><tr><td>109.</td><td>some = 15551</td><td>team = 30786</td><td>being = 77333</td><td>being = 154913</td><td>being = 1553376</td></tr><tr><td>110.</td><td>University = 15396</td><td>University = 30534</td><td>well = 77289</td><td>well = 154516</td><td>well = 1545411</td></tr><tr><td>111.</td><td>born = 15338</td><td>born = 30525</td><td>born = 76650</td><td>born = 153412</td><td>born = 1530997</td></tr><tr><td>112.</td><td>She = 14855</td><td>She = 30205</td><td>She = 75008</td><td>She = 150716</td><td>She = 1507066</td></tr><tr><td>113.</td><td>I = 14767</td><td>through = 29624</td><td>through = 74507</td><td>through = 148236</td><td>through = 1486624</td></tr><tr><td>114.</td><td>through = 14750</td><td>I = 29353</td><td>I = 73416</td><td>I = 146693</td><td>I = 1467645</td></tr><tr><td>115.</td><td>many = 14639</td><td>second = 29026</td><td>many = 73272</td><td>many = 146061</td><td>many = 1464866</td></tr><tr><td>116.</td><td>film = 14555</td><td>many = 28982</td><td>second = 72732</td><td>second = 145033</td><td>second = 1452887</td></tr><tr><td>117.</td><td>second = 14522</td><td>film = 28652</td><td>film = 71537</td><td>film = 143467</td><td>film = 1439183</td></tr><tr><td>118.</td><td>them = 14129</td><td>them = 28447</td><td>them = 70127</td><td>them = 141066</td><td>them = 1409079</td></tr><tr><td>119.</td><td>3 = 14089</td><td>against = 27873</td><td>against = 69696</td><td>3 = 139897</td><td>3 = 1400714</td></tr><tr><td>120.</td><td>against = 13971</td><td>3 = 27825</td><td>3 = 69691</td><td>before = 138335</td><td>against = 1395180</td></tr><tr><td>121.</td><td>before = 13958</td><td>After = 27705</td><td>After = 69647</td><td>against = 138323</td><td>before = 1384605</td></tr><tr><td>122.</td><td>while = 13939</td><td>before = 27532</td><td>before = 69236</td><td>After = 137787</td><td>After = 1382660</td></tr><tr><td>123.</td><td>After = 13811</td><td>while = 27435</td><td>while = 68465</td><td>while = 137295</td><td>while = 1373244</td></tr><tr><td>124.</td><td>both = 13516</td><td>both = 26871</td><td>both = 67615</td><td>both = 134375</td><td>both = 1348699</td></tr><tr><td>125.</td><td>until = 13373</td><td>family = 26821</td><td>until = 67054</td><td>until = 133047</td><td>until = 1333103</td></tr><tr><td>126.</td><td>family = 13082</td><td>until = 26788</td><td>family = 65737</td><td>family = 131757</td><td>family = 1319653</td></tr><tr><td>127.</td><td>may = 12984</td><td>may = 25936</td><td>may = 65165</td><td>may = 130290</td><td>may = 1304464</td></tr><tr><td>128.</td><td>work = 12983</td><td>people = 25666</td><td>work = 64204</td><td>work = 128290</td><td>work = 1284389</td></tr><tr><td>129.</td><td>album = 12925</td><td>work = 25498</td><td>people = 63792</td><td>people = 127276</td><td>people = 1275476</td></tr><tr><td>130.</td><td>States = 12743</td><td>played = 25276</td><td>school = 63480</td><td>album = 126688</td><td>album = 1266767</td></tr><tr><td>131.</td><td>people = 12730</td><td>States = 25159</td><td>name = 63449</td><td>played = 126512</td><td>played = 1265764</td></tr><tr><td>132.</td><td>number = 12655</td><td>school = 25060</td><td>played = 63439</td><td>school = 126144</td><td>name = 1264122</td></tr><tr><td>133.</td><td>As = 12647</td><td>name = 25037</td><td>no = 63203</td><td>released = 125948</td><td>school = 1264053</td></tr><tr><td>134.</td><td>played = 12615</td><td>As = 24932</td><td>album = 63058</td><td>name = 125941</td><td>no = 1262170</td></tr><tr><td>135.</td><td>no = 12598</td><td>album = 24928</td><td>States = 63010</td><td>no = 125887</td><td>States = 1261879</td></tr><tr><td>136.</td><td>released = 12413</td><td>no = 24922</td><td>number = 62821</td><td>States = 125309</td><td>released = 1257695</td></tr><tr><td>137.</td><td>name = 12304</td><td>number = 24887</td><td>released = 62811</td><td>number = 124709</td><td>number = 1245744</td></tr><tr><td>138.</td><td>school = 12237</td><td>released = 24495</td><td>As = 62442</td><td>As = 124070</td><td>As = 1243446</td></tr><tr><td>139.</td><td>called = 12172</td><td>area = 24488</td><td>area = 61960</td><td>area = 123012</td><td>area = 1230025</td></tr><tr><td>140.</td><td>World = 12150</td><td>called = 24222</td><td>called = 60804</td><td>called = 122263</td><td>called = 1220890</td></tr><tr><td>141.</td><td>series = 12058</td><td>series = 24085</td><td>World = 60453</td><td>4 = 119548</td><td>World = 1201137</td></tr><tr><td>142.</td><td>area = 11958</td><td>4 = 24075</td><td>series = 60126</td><td>World = 119296</td><td>4 = 1197124</td></tr><tr><td>143.</td><td>National = 11932</td><td>World = 23760</td><td>4 = 60050</td><td>series = 118860</td><td>series = 1189289</td></tr><tr><td>144.</td><td>will = 11920</td><td>will = 23394</td><td>National = 58430</td><td>four = 117378</td><td>four = 1174845</td></tr><tr><td>145.</td><td>4 = 11798</td><td>four = 23392</td><td>four = 58037</td><td>will = 117023</td><td>will = 1163166</td></tr><tr><td>146.</td><td>four = 11635</td><td>won = 23250</td><td>will = 57610</td><td>National = 116469</td><td>National = 1163091</td></tr><tr><td>147.</td><td>won = 11588</td><td>National = 22992</td><td>won = 57497</td><td>won = 115238</td><td>won = 1155293</td></tr><tr><td>148.</td><td>de = 11370</td><td>May = 22404</td><td>several = 56283</td><td>several = 112522</td><td>several = 1124455</td></tr><tr><td>149.</td><td>same = 11305</td><td>same = 22244</td><td>city = 55614</td><td>de = 111471</td><td>de = 1114917</td></tr><tr><td>150.</td><td>several = 11236</td><td>several = 22214</td><td>May = 55460</td><td>May = 111091</td><td>May = 1112310</td></tr><tr><td>151.</td><td>state = 11161</td><td>de = 22142</td><td>de = 55388</td><td>same = 110284</td><td>same = 1107213</td></tr><tr><td>152.</td><td>May = 11100</td><td>city = 21801</td><td>same = 55029</td><td>city = 109637</td><td>city = 1102279</td></tr><tr><td>153.</td><td>city = 11084</td><td>They = 21783</td><td>based = 54701</td><td>game = 109521</td><td>based = 1095379</td></tr><tr><td>154.</td><td>based = 11046</td><td>these = 21654</td><td>these = 54418</td><td>state = 108961</td><td>game = 1092612</td></tr><tr><td>155.</td><td>game = 10909</td><td>early = 21619</td><td>state = 54214</td><td>They = 108775</td><td>They = 1085550</td></tr><tr><td>156.</td><td>September = 10862</td><td>following = 21541</td><td>game = 54089</td><td>based = 108616</td><td>these = 1084873</td></tr><tr><td>157.</td><td>They = 10830</td><td>state = 21511</td><td>They = 53998</td><td>these = 108549</td><td>early = 1079480</td></tr><tr><td>158.</td><td>these = 10786</td><td>game = 21492</td><td>September = 53599</td><td>early = 107553</td><td>state = 1079376</td></tr><tr><td>159.</td><td>early = 10695</td><td>based = 21486</td><td>early = 53563</td><td>September = 107460</td><td>September = 1073702</td></tr><tr><td>160.</td><td>July = 10511</td><td>September = 21295</td><td>following = 53149</td><td>following = 106452</td><td>following = 1069045</td></tr><tr><td>161.</td><td>March = 10488</td><td>June = 20936</td><td>June = 52579</td><td>June = 104966</td><td>June = 1053581</td></tr><tr><td>162.</td><td>following = 10454</td><td>January = 20908</td><td>March = 52077</td><td>March = 104675</td><td>March = 1048838</td></tr><tr><td>163.</td><td>January = 10403</td><td>October = 20849</td><td>found = 51918</td><td>found = 103960</td><td>found = 1042747</td></tr><tr><td>164.</td><td>found = 10350</td><td>March = 20795</td><td>5 = 51828</td><td>His = 103566</td><td>July = 1036419</td></tr><tr><td>165.</td><td>5 = 10343</td><td>His = 20729</td><td>January = 51776</td><td>October = 103513</td><td>January = 1035786</td></tr><tr><td>166.</td><td>so = 10329</td><td>July = 20656</td><td>October = 51717</td><td>July = 103420</td><td>His = 1035569</td></tr><tr><td>167.</td><td>October = 10282</td><td>found = 20580</td><td>His = 51614</td><td>January = 103306</td><td>5 = 1035032</td></tr><tr><td>168.</td><td>June = 10248</td><td>$ = 20474</td><td>July = 51376</td><td>5 = 103266</td><td>October = 1033297</td></tr><tr><td>169.</td><td>use = 10224</td><td>since = 20447</td><td>School = 51327</td><td>began = 102268</td><td>since = 1024520</td></tr><tr><td>170.</td><td>since = 10209</td><td>began = 20365</td><td>so = 51314</td><td>$ = 102090</td><td>$ = 1022175</td></tr><tr><td>171.</td><td>began = 10207</td><td>School = 20336</td><td>since = 50973</td><td>since = 102067</td><td>School = 1021635</td></tr><tr><td>172.</td><td>10 = 10170</td><td>so = 20335</td><td>began = 50859</td><td>School = 101834</td><td>so = 1020186</td></tr><tr><td>173.</td><td>His = 10138</td><td>5 = 20323</td><td>use = 50813</td><td>so = 101740</td><td>began = 1019391</td></tr><tr><td>174.</td><td>August = 10087</td><td>10 = 20315</td><td>$ = 50609</td><td>August = 101733</td><td>August = 1016330</td></tr><tr><td>175.</td><td>School = 10073</td><td>use = 20224</td><td>August = 50394</td><td>use = 100788</td><td>use = 1012010</td></tr><tr><td>176.</td><td>South = 10032</td><td>August = 20194</td><td>John = 50210</td><td>John = 100492</td><td>John = 1003705</td></tr><tr><td>177.</td><td>John = 10029</td><td>John = 20114</td><td>10 = 50086</td><td>10 = 100313</td><td>10 = 1002316</td></tr><tr><td>178.</td><td>April = 10022</td><td>located = 20010</td><td>There = 49930</td><td>located = 99652</td><td>April = 999091</td></tr><tr><td>179.</td><td>located = 10008</td><td>April = 19889</td><td>located = 49887</td><td>April = 99524</td><td>located = 995175</td></tr><tr><td>180.</td><td>$ = 9945</td><td>There = 19766</td><td>April = 49534</td><td>There = 99365</td><td>There = 991787</td></tr><tr><td>181.</td><td>’s = 9859</td><td>’s = 19684</td><td>’s = 48848</td><td>’s = 98001</td><td>South = 981305</td></tr><tr><td>182.</td><td>group = 9820</td><td>South = 19582</td><td>South = 48719</td><td>South = 97532</td><td>’s = 976528</td></tr><tr><td>183.</td><td>November = 9812</td><td>group = 19463</td><td>now = 48571</td><td>group = 97131</td><td>group = 973212</td></tr><tr><td>184.</td><td>There = 9811</td><td>now = 19373</td><td>group = 48349</td><td>now = 96926</td><td>now = 971032</td></tr><tr><td>185.</td><td>end = 9634</td><td>At = 19217</td><td>population = 48341</td><td>each = 96655</td><td>At = 966464</td></tr><tr><td>186.</td><td>population = 9631</td><td>population = 19199</td><td>At = 48201</td><td>At = 96413</td><td>November = 961771</td></tr><tr><td>187.</td><td>each = 9590</td><td>each = 19179</td><td>6 = 47955</td><td>November = 96280</td><td>population = 958197</td></tr><tr><td>188.</td><td>now = 9586</td><td>end = 19084</td><td>November = 47836</td><td>population = 95768</td><td>each = 958053</td></tr><tr><td>189.</td><td>December = 9573</td><td>high = 19053</td><td>km = 47754</td><td>km = 95302</td><td>high = 951825</td></tr><tr><td>190.</td><td>At = 9551</td><td>& = 18933</td><td>each = 47575</td><td>high = 95168</td><td>December = 950509</td></tr><tr><td>191.</td><td>high = 9493</td><td>6 = 18898</td><td>December = 47495</td><td>end = 95129</td><td>km = 949024</td></tr><tr><td>192.</td><td>km = 9481</td><td>November = 18875</td><td>high = 47425</td><td>& = 94702</td><td>end = 948060</td></tr><tr><td>193.</td><td>County = 9449</td><td>December = 18862</td><td>& = 47314</td><td>December = 94615</td><td>6 = 948057</td></tr><tr><td>194.</td><td>6 = 9401</td><td>km = 18851</td><td>end = 47232</td><td>6 = 94580</td><td>& = 947777</td></tr><tr><td>195.</td><td>held = 9341</td><td>place = 18846</td><td>place = 47078</td><td>place = 94196</td><td>place = 943711</td></tr><tr><td>196.</td><td>place = 9332</td><td>County = 18775</td><td>County = 46993</td><td>County = 93826</td><td>County = 939123</td></tr><tr><td>197.</td><td>& = 9301</td><td>York = 18719</td><td>held = 46477</td><td>York = 93345</td><td>held = 932498</td></tr><tr><td>198.</td><td>government = 9275</td><td>held = 18668</td><td>York = 46369</td><td>held = 92714</td><td>York = 927382</td></tr><tr><td>199.</td><td>York = 9210</td><td>former = 18477</td><td>music = 46049</td><td>music = 92167</td><td>music = 919403</td></tr><tr><td>200.</td><td>2010 = 9183</td><td>music = 18444</td><td>took = 45768</td><td>named = 92022</td><td>named = 917474</td></tr><tr><td>201.</td><td>former = 9136</td><td>named = 18221</td><td>former = 45582</td><td>2010 = 92006</td><td>2010 = 917031</td></tr><tr><td>202.</td><td>music = 9114</td><td>took = 18139</td><td>named = 45478</td><td>took = 90690</td><td>took = 912473</td></tr><tr><td>203.</td><td>member = 9111</td><td>However = 18102</td><td>2010 = 45444</td><td>former = 90502</td><td>former = 911352</td></tr><tr><td>204.</td><td>took = 9092</td><td>member = 18082</td><td>member = 45104</td><td>any = 90058</td><td>member = 903829</td></tr><tr><td>205.</td><td>any = 9089</td><td>War = 18052</td><td>government = 45059</td><td>However = 89855</td><td>government = 900913</td></tr><tr><td>206.</td><td>named = 9080</td><td>century = 17966</td><td>However = 45011</td><td>member = 89801</td><td>British = 899966</td></tr><tr><td>207.</td><td>However = 9039</td><td>2010 = 17923</td><td>century = 44776</td><td>government = 89625</td><td>However = 897876</td></tr><tr><td>208.</td><td>day = 8922</td><td>British = 17856</td><td>back = 44771</td><td>British = 89506</td><td>any = 896416</td></tr><tr><td>209.</td><td>War = 8844</td><td>government = 17839</td><td>British = 44516</td><td>day = 89112</td><td>back = 890357</td></tr><tr><td>210.</td><td>century = 8839</td><td>day = 17793</td><td>any = 44500</td><td>century = 89038</td><td>century = 890023</td></tr><tr><td>211.</td><td>could = 8812</td><td>any = 17747</td><td>day = 44473</td><td>back = 88970</td><td>day = 888495</td></tr><tr><td>212.</td><td>2011 = 8786</td><td>back = 17579</td><td>War = 44378</td><td>age = 88530</td><td>War = 888132</td></tr><tr><td>213.</td><td>home = 8756</td><td>age = 17536</td><td>company = 44352</td><td>War = 88082</td><td>age = 879020</td></tr><tr><td>214.</td><td>back = 8743</td><td>home = 17470</td><td>City = 43814</td><td>City = 87471</td><td>company = 879013</td></tr><tr><td>215.</td><td>age = 8735</td><td>company = 17442</td><td>age = 43673</td><td>company = 87430</td><td>home = 873638</td></tr><tr><td>216.</td><td>company = 8724</td><td>City = 17395</td><td>home = 43571</td><td>could = 86551</td><td>City = 872965</td></tr><tr><td>217.</td><td>did = 8679</td><td>did = 17215</td><td>could = 43096</td><td>home = 86477</td><td>did = 863896</td></tr><tr><td>218.</td><td>British = 8668</td><td>around = 17112</td><td>did = 42885</td><td>did = 86307</td><td>could = 863073</td></tr><tr><td>219.</td><td>City = 8631</td><td>received = 17100</td><td>February = 42757</td><td>around = 85987</td><td>around = 857861</td></tr><tr><td>220.</td><td>20 = 8579</td><td>built = 17016</td><td>built = 42680</td><td>February = 85728</td><td>received = 853506</td></tr><tr><td>221.</td><td>around = 8575</td><td>20 = 17002</td><td>around = 42612</td><td>2011 = 85387</td><td>20 = 853470</td></tr><tr><td>222.</td><td>received = 8546</td><td>February = 16998</td><td>served = 42582</td><td>built = 85307</td><td>2011 = 853095</td></tr><tr><td>223.</td><td>served = 8534</td><td>2011 = 16924</td><td>received = 42535</td><td>received = 85140</td><td>February = 852562</td></tr><tr><td>224.</td><td>long = 8400</td><td>served = 16906</td><td>2011 = 42447</td><td>20 = 85003</td><td>built = 850439</td></tr><tr><td>225.</td><td>station = 8390</td><td>could = 16882</td><td>20 = 42409</td><td>served = 84517</td><td>served = 847499</td></tr><tr><td>226.</td><td>system = 8388</td><td>like = 16768</td><td>public = 41732</td><td>public = 83546</td><td>like = 836504</td></tr><tr><td>227.</td><td>February = 8381</td><td>18 = 16648</td><td>like = 41638</td><td>like = 83518</td><td>long = 833130</td></tr><tr><td>228.</td><td>public = 8381</td><td>system = 16621</td><td>long = 41593</td><td>long = 83174</td><td>public = 830281</td></tr><tr><td>229.</td><td>along = 8335</td><td>long = 16602</td><td>18 = 41171</td><td>18 = 82446</td><td>18 = 824370</td></tr><tr><td>230.</td><td>built = 8333</td><td>along = 16436</td><td>single = 40964</td><td>town = 82131</td><td>single = 819692</td></tr><tr><td>231.</td><td>band = 8330</td><td>public = 16436</td><td>town = 40865</td><td>single = 82112</td><td>system = 817407</td></tr><tr><td>232.</td><td>single = 8324</td><td>band = 16408</td><td>system = 40851</td><td>system = 81993</td><td>town = 814978</td></tr><tr><td>233.</td><td>like = 8262</td><td>left = 16356</td><td>State = 40451</td><td>along = 81486</td><td>2012 = 812691</td></tr><tr><td>234.</td><td>18 = 8240</td><td>town = 16330</td><td>band = 40364</td><td>band = 81014</td><td>band = 812609</td></tr><tr><td>235.</td><td>State = 8150</td><td>single = 16277</td><td>local = 40320</td><td>2012 = 80938</td><td>along = 812150</td></tr><tr><td>236.</td><td>League = 8100</td><td>2012 = 16261</td><td>because = 40288</td><td>because = 80793</td><td>State = 808256</td></tr><tr><td>237.</td><td>local = 8089</td><td>State = 16125</td><td>left = 40242</td><td>League = 80730</td><td>local = 807165</td></tr><tr><td>238.</td><td>because = 8087</td><td>North = 16080</td><td>2012 = 40235</td><td>State = 80433</td><td>because = 805615</td></tr><tr><td>239.</td><td>town = 8084</td><td>because = 16077</td><td>station = 40233</td><td>left = 80365</td><td>League = 803954</td></tr><tr><td>240.</td><td>left = 8049</td><td>League = 16060</td><td>along = 40224</td><td>local = 80308</td><td>left = 802970</td></tr><tr><td>241.</td><td>2012 = 7992</td><td>include = 16018</td><td>North = 39825</td><td>station = 79826</td><td>station = 802794</td></tr><tr><td>242.</td><td>include = 7992</td><td>station = 16014</td><td>League = 39718</td><td>North = 79694</td><td>include = 800998</td></tr><tr><td>243.</td><td>During = 7936</td><td>local = 15907</td><td>include = 39570</td><td>include = 79590</td><td>North = 797960</td></tr><tr><td>244.</td><td>five = 7933</td><td>within = 15868</td><td>2008 = 39419</td><td>within = 78952</td><td>7 = 791483</td></tr><tr><td>245.</td><td>2009 = 7929</td><td>song = 15792</td><td>song = 39402</td><td>7 = 78935</td><td>song = 788602</td></tr><tr><td>246.</td><td>2008 = 7926</td><td>line = 15728</td><td>7 = 39373</td><td>song = 78762</td><td>within = 788332</td></tr><tr><td>247.</td><td>North = 7925</td><td>five = 15718</td><td>large = 39126</td><td>five = 78427</td><td>2008 = 787960</td></tr><tr><td>248.</td><td>7 = 7924</td><td>7 = 15675</td><td>five = 38992</td><td>line = 78350</td><td>five = 786591</td></tr><tr><td>249.</td><td>off = 7853</td><td>2009 = 15670</td><td>within = 38988</td><td>2008 = 78316</td><td>2009 = 783043</td></tr><tr><td>250.</td><td>For = 7818</td><td>world = 15628</td><td>2009 = 38924</td><td>2009 = 78296</td><td>large = 780461</td></tr></tbody></table>"
      ],
      "text/plain": [
       "<IPython.core.display.HTML object>"
      ]
     },
     "execution_count": 77,
     "metadata": {},
     "output_type": "execute_result"
    }
   ],
   "source": [
    "output = [\"<table>\", \"<thead>\", \"<tr>\"]\n",
    "output.extend([\"<th>Rank</th>\", \"<th>1%</th>\", \"<th>2%</th>\", \"<th>5%</th>\", \"<th>10%</th>\", \"<th>100%</th>\"])\n",
    "output.extend([\"</tr>\", \"</thead>\", \"<tbody>\"])\n",
    "for indx, tup in enumerate(zip(data_1p, data_2p, data_5p, data_10p, data_100p)):\n",
    "    output.append(\"<tr>\")\n",
    "    output.append(\"<td>%d.</td>\" % (indx+1))\n",
    "\n",
    "    for w in tup:\n",
    "        output.append(\"<td>%s = %d</td>\" % w)\n",
    "    \n",
    "    output.append(\"</tr>\")\n",
    "output.append(\"</tbody>\")\n",
    "output.append(\"</table>\")\n",
    "\n",
    "from IPython.display import HTML\n",
    "HTML(\"\".join(output))"
   ]
  }
 ],
 "metadata": {
  "kernelspec": {
   "display_name": "Python 3",
   "language": "python",
   "name": "python3"
  },
  "language_info": {
   "codemirror_mode": {
    "name": "ipython",
    "version": 3
   },
   "file_extension": ".py",
   "mimetype": "text/x-python",
   "name": "python",
   "nbconvert_exporter": "python",
   "pygments_lexer": "ipython3",
   "version": "3.6.6"
  }
 },
 "nbformat": 4,
 "nbformat_minor": 2
}
