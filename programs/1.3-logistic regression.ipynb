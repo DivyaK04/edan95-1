{
 "cells": [
  {
   "cell_type": "markdown",
   "metadata": {},
   "source": [
    "# Introduction to Neural Networks: Logistic Regression and Loss\n",
    "\n",
    "Author: Pierre Nugues"
   ]
  },
  {
   "cell_type": "markdown",
   "metadata": {},
   "source": [
    "Initial Dataset from Berkson on *Using Logistic Regression for Classification* (1944)"
   ]
  },
  {
   "cell_type": "code",
   "execution_count": 1,
   "metadata": {},
   "outputs": [
    {
     "data": {
      "text/plain": [
       "[(40, 462, 109),\n",
       " (60, 500, 199),\n",
       " (80, 467, 298),\n",
       " (100, 515, 370),\n",
       " (120, 561, 459),\n",
       " (140, 469, 400),\n",
       " (160, 550, 495),\n",
       " (180, 542, 499),\n",
       " (200, 479, 450),\n",
       " (250, 497, 476),\n",
       " (300, 453, 442)]"
      ]
     },
     "execution_count": 1,
     "metadata": {},
     "output_type": "execute_result"
    }
   ],
   "source": [
    "dose = [40, 60, 80, 100, 120, 140, 160, 180, 200, 250, 300]\n",
    "exposed = [462, 500, 467, 515, 561, 469, 550, 542, 479, 497, 453]\n",
    "mortality = [109, 199, 298, 370, 459, 400, 495, 499, 450, 476, 442]\n",
    "dataset = list(zip(dose, exposed, mortality))\n",
    "dataset"
   ]
  },
  {
   "cell_type": "markdown",
   "metadata": {},
   "source": [
    "## Formatting the Data"
   ]
  },
  {
   "cell_type": "code",
   "execution_count": 2,
   "metadata": {},
   "outputs": [
    {
     "data": {
      "text/plain": [
       "array([[ 40,   1],\n",
       "       [ 40,   1],\n",
       "       [ 40,   1],\n",
       "       ...,\n",
       "       [300,   0],\n",
       "       [300,   0],\n",
       "       [300,   0]])"
      ]
     },
     "execution_count": 2,
     "metadata": {},
     "output_type": "execute_result"
    }
   ],
   "source": [
    "from math import log10\n",
    "import numpy as np\n",
    "\n",
    "X = []\n",
    "y = []\n",
    "for obs in dataset:\n",
    "    mortality_nbr = obs[2]\n",
    "    survival_nbr = obs[1] - mortality_nbr\n",
    "    for _ in range(mortality_nbr):\n",
    "        X += [obs[0]]\n",
    "        y += [1]\n",
    "    for _ in range(survival_nbr):\n",
    "        X += [obs[0]]\n",
    "        y += [0]\n",
    "\n",
    "#X = list(map(log10, X))\n",
    "X = np.array(X).reshape(-1, 1)\n",
    "y = np.array(y).reshape(-1, 1)\n",
    "np.hstack((X, y))"
   ]
  },
  {
   "cell_type": "markdown",
   "metadata": {},
   "source": [
    "## Using the Logistic Curve (Sigmoid)"
   ]
  },
  {
   "cell_type": "markdown",
   "metadata": {},
   "source": [
    "A simple logictic regression architecture"
   ]
  },
  {
   "cell_type": "code",
   "execution_count": 3,
   "metadata": {},
   "outputs": [
    {
     "name": "stdout",
     "output_type": "stream",
     "text": [
      "Model: \"sequential\"\n",
      "_________________________________________________________________\n",
      "Layer (type)                 Output Shape              Param #   \n",
      "=================================================================\n",
      "dense (Dense)                (None, 1)                 2         \n",
      "=================================================================\n",
      "Total params: 2\n",
      "Trainable params: 2\n",
      "Non-trainable params: 0\n",
      "_________________________________________________________________\n"
     ]
    }
   ],
   "source": [
    "from tensorflow.keras.layers import Dense\n",
    "from tensorflow.keras.models import Sequential\n",
    "\n",
    "np.random.seed(0)\n",
    "\n",
    "model = Sequential([\n",
    "    Dense(1, input_dim=1, activation='sigmoid')])\n",
    "model.compile(optimizer='nadam', loss='binary_crossentropy', \n",
    "              metrics=['accuracy'])\n",
    "model.summary()"
   ]
  },
  {
   "cell_type": "markdown",
   "metadata": {},
   "source": [
    "We fit it"
   ]
  },
  {
   "cell_type": "code",
   "execution_count": 4,
   "metadata": {},
   "outputs": [
    {
     "name": "stdout",
     "output_type": "stream",
     "text": [
      "172/172 [==============================] - 0s 523us/step - loss: 0.4204 - accuracy: 0.8082\n"
     ]
    },
    {
     "data": {
      "text/plain": [
       "[0.42035916447639465, 0.8081892728805542]"
      ]
     },
     "execution_count": 4,
     "metadata": {},
     "output_type": "execute_result"
    }
   ],
   "source": [
    "history = model.fit(X, y, epochs=50, verbose=0)\n",
    "model.evaluate(X, y)"
   ]
  },
  {
   "cell_type": "markdown",
   "metadata": {},
   "source": [
    "## The Model Weights"
   ]
  },
  {
   "cell_type": "code",
   "execution_count": 5,
   "metadata": {},
   "outputs": [
    {
     "data": {
      "text/plain": [
       "[array([[0.01876769]], dtype=float32), array([-0.9961213], dtype=float32)]"
      ]
     },
     "execution_count": 5,
     "metadata": {},
     "output_type": "execute_result"
    }
   ],
   "source": [
    "model.get_weights()"
   ]
  },
  {
   "cell_type": "markdown",
   "metadata": {},
   "source": [
    "## The Curves"
   ]
  },
  {
   "cell_type": "code",
   "execution_count": 6,
   "metadata": {},
   "outputs": [
    {
     "data": {
      "image/png": "[encoded data removed]",
      "text/plain": [
       "<Figure size 432x288 with 1 Axes>"
      ]
     },
     "metadata": {
      "needs_background": "light"
     },
     "output_type": "display_data"
    },
    {
     "data": {
      "image/png": "[encoded data removed]",
      "text/plain": [
       "<Figure size 432x288 with 1 Axes>"
      ]
     },
     "metadata": {
      "needs_background": "light"
     },
     "output_type": "display_data"
    }
   ],
   "source": [
    "import matplotlib.pyplot as plt\n",
    "\n",
    "acc = history.history['accuracy']\n",
    "loss = history.history['loss']\n",
    "epochs = range(1, len(acc) + 1)\n",
    "plt.plot(epochs, acc, 'ro', label='Training acc')\n",
    "plt.title('Training accuracy and loss')\n",
    "plt.legend()\n",
    "plt.figure()\n",
    "plt.plot(epochs, loss, 'bo', label='Training loss')\n",
    "plt.title('Training accuracy and loss')\n",
    "plt.show()"
   ]
  },
  {
   "cell_type": "markdown",
   "metadata": {},
   "source": [
    "## Computing the Loss"
   ]
  },
  {
   "cell_type": "markdown",
   "metadata": {},
   "source": [
    "The crossentropy loss is defined as:\n",
    "$\n",
    "H(P,M) = - \\frac{1}{|X|} \\sum\\limits_{x \\in X} {P(x)\\log M(x),} \n",
    "$"
   ]
  },
  {
   "cell_type": "markdown",
   "metadata": {},
   "source": [
    "### First, a simple example:\n",
    "We draw individuals"
   ]
  },
  {
   "cell_type": "code",
   "execution_count": 7,
   "metadata": {},
   "outputs": [
    {
     "name": "stdout",
     "output_type": "stream",
     "text": [
      "[1189 3209 1984 1484 1625  918]\n"
     ]
    }
   ],
   "source": [
    "from math import log\n",
    "\n",
    "random_observations = np.random.choice(X.shape[0], 6, replace = False)\n",
    "print(random_observations)"
   ]
  },
  {
   "cell_type": "markdown",
   "metadata": {},
   "source": [
    "Which dose did they ingest and what was the outcome?"
   ]
  },
  {
   "cell_type": "code",
   "execution_count": 8,
   "metadata": {},
   "outputs": [
    {
     "name": "stdout",
     "output_type": "stream",
     "text": [
      "Dose: [array([80]), array([160]), array([120]), array([100]), array([100]), array([60])]\n",
      "Observed class: [array([1]), array([1]), array([1]), array([1]), array([1]), array([0])]\n"
     ]
    }
   ],
   "source": [
    "X_choice = list(X[random_observations])\n",
    "print('Dose:', X_choice)\n",
    "y_choice = list(y[random_observations])\n",
    "print('Observed class:', y_choice)"
   ]
  },
  {
   "cell_type": "markdown",
   "metadata": {},
   "source": [
    "What is the predicted outcome?"
   ]
  },
  {
   "cell_type": "code",
   "execution_count": 9,
   "metadata": {},
   "outputs": [
    {
     "name": "stdout",
     "output_type": "stream",
     "text": [
      "Predicted probs for class 1: [array([[0.62370265]], dtype=float32), array([[0.88149977]], dtype=float32), array([[0.77833706]], dtype=float32), array([[0.70695645]], dtype=float32), array([[0.70695645]], dtype=float32), array([[0.5324394]], dtype=float32)]\n"
     ]
    }
   ],
   "source": [
    "probs_raw = list(map(model.predict, X_choice))\n",
    "print('Predicted probs for class 1:', probs_raw)"
   ]
  },
  {
   "cell_type": "markdown",
   "metadata": {},
   "source": [
    "Let us compute the cross-entropy"
   ]
  },
  {
   "cell_type": "code",
   "execution_count": 10,
   "metadata": {},
   "outputs": [
    {
     "name": "stdout",
     "output_type": "stream",
     "text": [
      "Crossentropy per observation: [array([-0.47208155]), array([-0.12613054]), array([-0.25059561]), array([-0.34678622]), array([-0.34678622]), array([-0.76022634])]\n",
      "Crossentropy: [0.38376775]\n"
     ]
    }
   ],
   "source": [
    "probs = [log(p) * y + log(1 - p) * (1 - y) for p, y in zip(probs_raw, y_choice)]\n",
    "print('Crossentropy per observation:', probs)\n",
    "entropy = -sum(probs)/6\n",
    "print('Crossentropy:', entropy)"
   ]
  },
  {
   "cell_type": "markdown",
   "metadata": {},
   "source": [
    "### The whole dataset\n",
    "We compute it over the whole training set"
   ]
  },
  {
   "cell_type": "code",
   "execution_count": 11,
   "metadata": {},
   "outputs": [
    {
     "data": {
      "text/plain": [
       "array([-0.42035945])"
      ]
     },
     "execution_count": 11,
     "metadata": {},
     "output_type": "execute_result"
    }
   ],
   "source": [
    "probs_raw = model.predict(X)\n",
    "probs = [log(p) * y + log(1 - p) * (1 - y) for p, y in zip(probs_raw, y)]\n",
    "sum(probs)/X.shape[0]"
   ]
  },
  {
   "cell_type": "code",
   "execution_count": null,
   "metadata": {},
   "outputs": [],
   "source": []
  }
 ],
 "metadata": {
  "kernelspec": {
   "display_name": "Python 3",
   "language": "python",
   "name": "python3"
  },
  "language_info": {
   "codemirror_mode": {
    "name": "ipython",
    "version": 3
   },
   "file_extension": ".py",
   "mimetype": "text/x-python",
   "name": "python",
   "nbconvert_exporter": "python",
   "pygments_lexer": "ipython3",
   "version": "3.8.5"
  }
 },
 "nbformat": 4,
 "nbformat_minor": 4
}
